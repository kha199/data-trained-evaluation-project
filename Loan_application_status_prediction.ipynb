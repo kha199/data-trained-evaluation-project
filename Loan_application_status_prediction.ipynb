{
  "nbformat": 4,
  "nbformat_minor": 0,
  "metadata": {
    "colab": {
      "name": "Loan application status prediction",
      "provenance": [],
      "collapsed_sections": [],
      "authorship_tag": "ABX9TyMwlbJobKxp3txwA8m5FXL0"
    },
    "kernelspec": {
      "name": "python3",
      "display_name": "Python 3"
    },
    "language_info": {
      "name": "python"
    }
  },
  "cells": [
    {
      "cell_type": "code",
      "execution_count": 1,
      "metadata": {
        "id": "flbgmmqtosfP"
      },
      "outputs": [],
      "source": [
        "import pandas as pd\n",
        "import numpy as np\n",
        "import matplotlib.pyplot as plt\n",
        "import seaborn as sns\n",
        "import warnings\n",
        "warnings.filterwarnings('ignore')"
      ]
    },
    {
      "cell_type": "code",
      "source": [
        "df = pd.read_csv('https://raw.githubusercontent.com/dsrscientist/DSData/master/loan_prediction.csv')"
      ],
      "metadata": {
        "id": "xwcsneeUpLCt"
      },
      "execution_count": 2,
      "outputs": []
    },
    {
      "cell_type": "code",
      "source": [
        "df"
      ],
      "metadata": {
        "colab": {
          "base_uri": "https://localhost:8080/",
          "height": 505
        },
        "id": "uRGdexMppaIV",
        "outputId": "304ab6d3-2213-4846-db33-6edc6942cff7"
      },
      "execution_count": 3,
      "outputs": [
        {
          "output_type": "execute_result",
          "data": {
            "text/plain": [
              "      Loan_ID  Gender Married Dependents     Education Self_Employed  \\\n",
              "0    LP001002    Male      No          0      Graduate            No   \n",
              "1    LP001003    Male     Yes          1      Graduate            No   \n",
              "2    LP001005    Male     Yes          0      Graduate           Yes   \n",
              "3    LP001006    Male     Yes          0  Not Graduate            No   \n",
              "4    LP001008    Male      No          0      Graduate            No   \n",
              "..        ...     ...     ...        ...           ...           ...   \n",
              "609  LP002978  Female      No          0      Graduate            No   \n",
              "610  LP002979    Male     Yes         3+      Graduate            No   \n",
              "611  LP002983    Male     Yes          1      Graduate            No   \n",
              "612  LP002984    Male     Yes          2      Graduate            No   \n",
              "613  LP002990  Female      No          0      Graduate           Yes   \n",
              "\n",
              "     ApplicantIncome  CoapplicantIncome  LoanAmount  Loan_Amount_Term  \\\n",
              "0               5849                0.0         NaN             360.0   \n",
              "1               4583             1508.0       128.0             360.0   \n",
              "2               3000                0.0        66.0             360.0   \n",
              "3               2583             2358.0       120.0             360.0   \n",
              "4               6000                0.0       141.0             360.0   \n",
              "..               ...                ...         ...               ...   \n",
              "609             2900                0.0        71.0             360.0   \n",
              "610             4106                0.0        40.0             180.0   \n",
              "611             8072              240.0       253.0             360.0   \n",
              "612             7583                0.0       187.0             360.0   \n",
              "613             4583                0.0       133.0             360.0   \n",
              "\n",
              "     Credit_History Property_Area Loan_Status  \n",
              "0               1.0         Urban           Y  \n",
              "1               1.0         Rural           N  \n",
              "2               1.0         Urban           Y  \n",
              "3               1.0         Urban           Y  \n",
              "4               1.0         Urban           Y  \n",
              "..              ...           ...         ...  \n",
              "609             1.0         Rural           Y  \n",
              "610             1.0         Rural           Y  \n",
              "611             1.0         Urban           Y  \n",
              "612             1.0         Urban           Y  \n",
              "613             0.0     Semiurban           N  \n",
              "\n",
              "[614 rows x 13 columns]"
            ],
            "text/html": [
              "\n",
              "  <div id=\"df-68024dcd-325b-410e-826d-e7cf347c5ff9\">\n",
              "    <div class=\"colab-df-container\">\n",
              "      <div>\n",
              "<style scoped>\n",
              "    .dataframe tbody tr th:only-of-type {\n",
              "        vertical-align: middle;\n",
              "    }\n",
              "\n",
              "    .dataframe tbody tr th {\n",
              "        vertical-align: top;\n",
              "    }\n",
              "\n",
              "    .dataframe thead th {\n",
              "        text-align: right;\n",
              "    }\n",
              "</style>\n",
              "<table border=\"1\" class=\"dataframe\">\n",
              "  <thead>\n",
              "    <tr style=\"text-align: right;\">\n",
              "      <th></th>\n",
              "      <th>Loan_ID</th>\n",
              "      <th>Gender</th>\n",
              "      <th>Married</th>\n",
              "      <th>Dependents</th>\n",
              "      <th>Education</th>\n",
              "      <th>Self_Employed</th>\n",
              "      <th>ApplicantIncome</th>\n",
              "      <th>CoapplicantIncome</th>\n",
              "      <th>LoanAmount</th>\n",
              "      <th>Loan_Amount_Term</th>\n",
              "      <th>Credit_History</th>\n",
              "      <th>Property_Area</th>\n",
              "      <th>Loan_Status</th>\n",
              "    </tr>\n",
              "  </thead>\n",
              "  <tbody>\n",
              "    <tr>\n",
              "      <th>0</th>\n",
              "      <td>LP001002</td>\n",
              "      <td>Male</td>\n",
              "      <td>No</td>\n",
              "      <td>0</td>\n",
              "      <td>Graduate</td>\n",
              "      <td>No</td>\n",
              "      <td>5849</td>\n",
              "      <td>0.0</td>\n",
              "      <td>NaN</td>\n",
              "      <td>360.0</td>\n",
              "      <td>1.0</td>\n",
              "      <td>Urban</td>\n",
              "      <td>Y</td>\n",
              "    </tr>\n",
              "    <tr>\n",
              "      <th>1</th>\n",
              "      <td>LP001003</td>\n",
              "      <td>Male</td>\n",
              "      <td>Yes</td>\n",
              "      <td>1</td>\n",
              "      <td>Graduate</td>\n",
              "      <td>No</td>\n",
              "      <td>4583</td>\n",
              "      <td>1508.0</td>\n",
              "      <td>128.0</td>\n",
              "      <td>360.0</td>\n",
              "      <td>1.0</td>\n",
              "      <td>Rural</td>\n",
              "      <td>N</td>\n",
              "    </tr>\n",
              "    <tr>\n",
              "      <th>2</th>\n",
              "      <td>LP001005</td>\n",
              "      <td>Male</td>\n",
              "      <td>Yes</td>\n",
              "      <td>0</td>\n",
              "      <td>Graduate</td>\n",
              "      <td>Yes</td>\n",
              "      <td>3000</td>\n",
              "      <td>0.0</td>\n",
              "      <td>66.0</td>\n",
              "      <td>360.0</td>\n",
              "      <td>1.0</td>\n",
              "      <td>Urban</td>\n",
              "      <td>Y</td>\n",
              "    </tr>\n",
              "    <tr>\n",
              "      <th>3</th>\n",
              "      <td>LP001006</td>\n",
              "      <td>Male</td>\n",
              "      <td>Yes</td>\n",
              "      <td>0</td>\n",
              "      <td>Not Graduate</td>\n",
              "      <td>No</td>\n",
              "      <td>2583</td>\n",
              "      <td>2358.0</td>\n",
              "      <td>120.0</td>\n",
              "      <td>360.0</td>\n",
              "      <td>1.0</td>\n",
              "      <td>Urban</td>\n",
              "      <td>Y</td>\n",
              "    </tr>\n",
              "    <tr>\n",
              "      <th>4</th>\n",
              "      <td>LP001008</td>\n",
              "      <td>Male</td>\n",
              "      <td>No</td>\n",
              "      <td>0</td>\n",
              "      <td>Graduate</td>\n",
              "      <td>No</td>\n",
              "      <td>6000</td>\n",
              "      <td>0.0</td>\n",
              "      <td>141.0</td>\n",
              "      <td>360.0</td>\n",
              "      <td>1.0</td>\n",
              "      <td>Urban</td>\n",
              "      <td>Y</td>\n",
              "    </tr>\n",
              "    <tr>\n",
              "      <th>...</th>\n",
              "      <td>...</td>\n",
              "      <td>...</td>\n",
              "      <td>...</td>\n",
              "      <td>...</td>\n",
              "      <td>...</td>\n",
              "      <td>...</td>\n",
              "      <td>...</td>\n",
              "      <td>...</td>\n",
              "      <td>...</td>\n",
              "      <td>...</td>\n",
              "      <td>...</td>\n",
              "      <td>...</td>\n",
              "      <td>...</td>\n",
              "    </tr>\n",
              "    <tr>\n",
              "      <th>609</th>\n",
              "      <td>LP002978</td>\n",
              "      <td>Female</td>\n",
              "      <td>No</td>\n",
              "      <td>0</td>\n",
              "      <td>Graduate</td>\n",
              "      <td>No</td>\n",
              "      <td>2900</td>\n",
              "      <td>0.0</td>\n",
              "      <td>71.0</td>\n",
              "      <td>360.0</td>\n",
              "      <td>1.0</td>\n",
              "      <td>Rural</td>\n",
              "      <td>Y</td>\n",
              "    </tr>\n",
              "    <tr>\n",
              "      <th>610</th>\n",
              "      <td>LP002979</td>\n",
              "      <td>Male</td>\n",
              "      <td>Yes</td>\n",
              "      <td>3+</td>\n",
              "      <td>Graduate</td>\n",
              "      <td>No</td>\n",
              "      <td>4106</td>\n",
              "      <td>0.0</td>\n",
              "      <td>40.0</td>\n",
              "      <td>180.0</td>\n",
              "      <td>1.0</td>\n",
              "      <td>Rural</td>\n",
              "      <td>Y</td>\n",
              "    </tr>\n",
              "    <tr>\n",
              "      <th>611</th>\n",
              "      <td>LP002983</td>\n",
              "      <td>Male</td>\n",
              "      <td>Yes</td>\n",
              "      <td>1</td>\n",
              "      <td>Graduate</td>\n",
              "      <td>No</td>\n",
              "      <td>8072</td>\n",
              "      <td>240.0</td>\n",
              "      <td>253.0</td>\n",
              "      <td>360.0</td>\n",
              "      <td>1.0</td>\n",
              "      <td>Urban</td>\n",
              "      <td>Y</td>\n",
              "    </tr>\n",
              "    <tr>\n",
              "      <th>612</th>\n",
              "      <td>LP002984</td>\n",
              "      <td>Male</td>\n",
              "      <td>Yes</td>\n",
              "      <td>2</td>\n",
              "      <td>Graduate</td>\n",
              "      <td>No</td>\n",
              "      <td>7583</td>\n",
              "      <td>0.0</td>\n",
              "      <td>187.0</td>\n",
              "      <td>360.0</td>\n",
              "      <td>1.0</td>\n",
              "      <td>Urban</td>\n",
              "      <td>Y</td>\n",
              "    </tr>\n",
              "    <tr>\n",
              "      <th>613</th>\n",
              "      <td>LP002990</td>\n",
              "      <td>Female</td>\n",
              "      <td>No</td>\n",
              "      <td>0</td>\n",
              "      <td>Graduate</td>\n",
              "      <td>Yes</td>\n",
              "      <td>4583</td>\n",
              "      <td>0.0</td>\n",
              "      <td>133.0</td>\n",
              "      <td>360.0</td>\n",
              "      <td>0.0</td>\n",
              "      <td>Semiurban</td>\n",
              "      <td>N</td>\n",
              "    </tr>\n",
              "  </tbody>\n",
              "</table>\n",
              "<p>614 rows × 13 columns</p>\n",
              "</div>\n",
              "      <button class=\"colab-df-convert\" onclick=\"convertToInteractive('df-68024dcd-325b-410e-826d-e7cf347c5ff9')\"\n",
              "              title=\"Convert this dataframe to an interactive table.\"\n",
              "              style=\"display:none;\">\n",
              "        \n",
              "  <svg xmlns=\"http://www.w3.org/2000/svg\" height=\"24px\"viewBox=\"0 0 24 24\"\n",
              "       width=\"24px\">\n",
              "    <path d=\"M0 0h24v24H0V0z\" fill=\"none\"/>\n",
              "    <path d=\"M18.56 5.44l.94 2.06.94-2.06 2.06-.94-2.06-.94-.94-2.06-.94 2.06-2.06.94zm-11 1L8.5 8.5l.94-2.06 2.06-.94-2.06-.94L8.5 2.5l-.94 2.06-2.06.94zm10 10l.94 2.06.94-2.06 2.06-.94-2.06-.94-.94-2.06-.94 2.06-2.06.94z\"/><path d=\"M17.41 7.96l-1.37-1.37c-.4-.4-.92-.59-1.43-.59-.52 0-1.04.2-1.43.59L10.3 9.45l-7.72 7.72c-.78.78-.78 2.05 0 2.83L4 21.41c.39.39.9.59 1.41.59.51 0 1.02-.2 1.41-.59l7.78-7.78 2.81-2.81c.8-.78.8-2.07 0-2.86zM5.41 20L4 18.59l7.72-7.72 1.47 1.35L5.41 20z\"/>\n",
              "  </svg>\n",
              "      </button>\n",
              "      \n",
              "  <style>\n",
              "    .colab-df-container {\n",
              "      display:flex;\n",
              "      flex-wrap:wrap;\n",
              "      gap: 12px;\n",
              "    }\n",
              "\n",
              "    .colab-df-convert {\n",
              "      background-color: #E8F0FE;\n",
              "      border: none;\n",
              "      border-radius: 50%;\n",
              "      cursor: pointer;\n",
              "      display: none;\n",
              "      fill: #1967D2;\n",
              "      height: 32px;\n",
              "      padding: 0 0 0 0;\n",
              "      width: 32px;\n",
              "    }\n",
              "\n",
              "    .colab-df-convert:hover {\n",
              "      background-color: #E2EBFA;\n",
              "      box-shadow: 0px 1px 2px rgba(60, 64, 67, 0.3), 0px 1px 3px 1px rgba(60, 64, 67, 0.15);\n",
              "      fill: #174EA6;\n",
              "    }\n",
              "\n",
              "    [theme=dark] .colab-df-convert {\n",
              "      background-color: #3B4455;\n",
              "      fill: #D2E3FC;\n",
              "    }\n",
              "\n",
              "    [theme=dark] .colab-df-convert:hover {\n",
              "      background-color: #434B5C;\n",
              "      box-shadow: 0px 1px 3px 1px rgba(0, 0, 0, 0.15);\n",
              "      filter: drop-shadow(0px 1px 2px rgba(0, 0, 0, 0.3));\n",
              "      fill: #FFFFFF;\n",
              "    }\n",
              "  </style>\n",
              "\n",
              "      <script>\n",
              "        const buttonEl =\n",
              "          document.querySelector('#df-68024dcd-325b-410e-826d-e7cf347c5ff9 button.colab-df-convert');\n",
              "        buttonEl.style.display =\n",
              "          google.colab.kernel.accessAllowed ? 'block' : 'none';\n",
              "\n",
              "        async function convertToInteractive(key) {\n",
              "          const element = document.querySelector('#df-68024dcd-325b-410e-826d-e7cf347c5ff9');\n",
              "          const dataTable =\n",
              "            await google.colab.kernel.invokeFunction('convertToInteractive',\n",
              "                                                     [key], {});\n",
              "          if (!dataTable) return;\n",
              "\n",
              "          const docLinkHtml = 'Like what you see? Visit the ' +\n",
              "            '<a target=\"_blank\" href=https://colab.research.google.com/notebooks/data_table.ipynb>data table notebook</a>'\n",
              "            + ' to learn more about interactive tables.';\n",
              "          element.innerHTML = '';\n",
              "          dataTable['output_type'] = 'display_data';\n",
              "          await google.colab.output.renderOutput(dataTable, element);\n",
              "          const docLink = document.createElement('div');\n",
              "          docLink.innerHTML = docLinkHtml;\n",
              "          element.appendChild(docLink);\n",
              "        }\n",
              "      </script>\n",
              "    </div>\n",
              "  </div>\n",
              "  "
            ]
          },
          "metadata": {},
          "execution_count": 3
        }
      ]
    },
    {
      "cell_type": "code",
      "source": [
        "df.drop(['Loan_ID','Gender'],axis=1,inplace=True) # droping columns"
      ],
      "metadata": {
        "id": "Ob2IvBTzx3lX"
      },
      "execution_count": 4,
      "outputs": []
    },
    {
      "cell_type": "code",
      "source": [
        "df.info()"
      ],
      "metadata": {
        "colab": {
          "base_uri": "https://localhost:8080/"
        },
        "id": "bmWQSMjipazz",
        "outputId": "787df47c-ea22-411a-b595-9d0c17682c3e"
      },
      "execution_count": 5,
      "outputs": [
        {
          "output_type": "stream",
          "name": "stdout",
          "text": [
            "<class 'pandas.core.frame.DataFrame'>\n",
            "RangeIndex: 614 entries, 0 to 613\n",
            "Data columns (total 11 columns):\n",
            " #   Column             Non-Null Count  Dtype  \n",
            "---  ------             --------------  -----  \n",
            " 0   Married            611 non-null    object \n",
            " 1   Dependents         599 non-null    object \n",
            " 2   Education          614 non-null    object \n",
            " 3   Self_Employed      582 non-null    object \n",
            " 4   ApplicantIncome    614 non-null    int64  \n",
            " 5   CoapplicantIncome  614 non-null    float64\n",
            " 6   LoanAmount         592 non-null    float64\n",
            " 7   Loan_Amount_Term   600 non-null    float64\n",
            " 8   Credit_History     564 non-null    float64\n",
            " 9   Property_Area      614 non-null    object \n",
            " 10  Loan_Status        614 non-null    object \n",
            "dtypes: float64(4), int64(1), object(6)\n",
            "memory usage: 52.9+ KB\n"
          ]
        }
      ]
    },
    {
      "cell_type": "code",
      "source": [
        "df.isnull().sum() # checking the null values"
      ],
      "metadata": {
        "colab": {
          "base_uri": "https://localhost:8080/"
        },
        "id": "67_Btcydpsvo",
        "outputId": "f0f1c2f7-11b1-447a-8c66-200e2430be86"
      },
      "execution_count": 6,
      "outputs": [
        {
          "output_type": "execute_result",
          "data": {
            "text/plain": [
              "Married               3\n",
              "Dependents           15\n",
              "Education             0\n",
              "Self_Employed        32\n",
              "ApplicantIncome       0\n",
              "CoapplicantIncome     0\n",
              "LoanAmount           22\n",
              "Loan_Amount_Term     14\n",
              "Credit_History       50\n",
              "Property_Area         0\n",
              "Loan_Status           0\n",
              "dtype: int64"
            ]
          },
          "metadata": {},
          "execution_count": 6
        }
      ]
    },
    {
      "cell_type": "code",
      "source": [
        "# Filling the null values\n",
        "df['Married']=df['Married'].fillna(df['Married'].mode()[0])\n",
        "df['Dependents']=df['Dependents'].fillna(df['Dependents'].mode()[0])\n",
        "df['Self_Employed']=df['Self_Employed'].fillna(df['Self_Employed'].mode()[0])"
      ],
      "metadata": {
        "id": "ZwtYQPu6p5B6"
      },
      "execution_count": 7,
      "outputs": []
    },
    {
      "cell_type": "code",
      "source": [
        "df['LoanAmount'] = df['LoanAmount'].fillna(df['LoanAmount'].mean())\n",
        "df['Loan_Amount_Term'] = df['Loan_Amount_Term'].fillna(df['Loan_Amount_Term'].mean())\n",
        "df['Credit_History'] = df['Credit_History'].fillna(df['Credit_History'].mean())"
      ],
      "metadata": {
        "id": "oSabgkZeuYJ0"
      },
      "execution_count": 8,
      "outputs": []
    },
    {
      "cell_type": "code",
      "source": [
        "df.isnull().sum()"
      ],
      "metadata": {
        "colab": {
          "base_uri": "https://localhost:8080/"
        },
        "id": "exYWo-zTrTL9",
        "outputId": "057f7284-adf7-44cb-ec79-84da373de794"
      },
      "execution_count": 9,
      "outputs": [
        {
          "output_type": "execute_result",
          "data": {
            "text/plain": [
              "Married              0\n",
              "Dependents           0\n",
              "Education            0\n",
              "Self_Employed        0\n",
              "ApplicantIncome      0\n",
              "CoapplicantIncome    0\n",
              "LoanAmount           0\n",
              "Loan_Amount_Term     0\n",
              "Credit_History       0\n",
              "Property_Area        0\n",
              "Loan_Status          0\n",
              "dtype: int64"
            ]
          },
          "metadata": {},
          "execution_count": 9
        }
      ]
    },
    {
      "cell_type": "code",
      "source": [
        "df.describe() # Describing the data"
      ],
      "metadata": {
        "colab": {
          "base_uri": "https://localhost:8080/",
          "height": 300
        },
        "id": "vpvlazR5rZVS",
        "outputId": "ba673530-a11d-4072-ce08-a119b4b77cd6"
      },
      "execution_count": 10,
      "outputs": [
        {
          "output_type": "execute_result",
          "data": {
            "text/plain": [
              "       ApplicantIncome  CoapplicantIncome  LoanAmount  Loan_Amount_Term  \\\n",
              "count       614.000000         614.000000  614.000000        614.000000   \n",
              "mean       5403.459283        1621.245798  146.412162        342.000000   \n",
              "std        6109.041673        2926.248369   84.037468         64.372489   \n",
              "min         150.000000           0.000000    9.000000         12.000000   \n",
              "25%        2877.500000           0.000000  100.250000        360.000000   \n",
              "50%        3812.500000        1188.500000  129.000000        360.000000   \n",
              "75%        5795.000000        2297.250000  164.750000        360.000000   \n",
              "max       81000.000000       41667.000000  700.000000        480.000000   \n",
              "\n",
              "       Credit_History  \n",
              "count      614.000000  \n",
              "mean         0.842199  \n",
              "std          0.349681  \n",
              "min          0.000000  \n",
              "25%          1.000000  \n",
              "50%          1.000000  \n",
              "75%          1.000000  \n",
              "max          1.000000  "
            ],
            "text/html": [
              "\n",
              "  <div id=\"df-790782c5-b475-4708-b2be-12bcb0e77fbc\">\n",
              "    <div class=\"colab-df-container\">\n",
              "      <div>\n",
              "<style scoped>\n",
              "    .dataframe tbody tr th:only-of-type {\n",
              "        vertical-align: middle;\n",
              "    }\n",
              "\n",
              "    .dataframe tbody tr th {\n",
              "        vertical-align: top;\n",
              "    }\n",
              "\n",
              "    .dataframe thead th {\n",
              "        text-align: right;\n",
              "    }\n",
              "</style>\n",
              "<table border=\"1\" class=\"dataframe\">\n",
              "  <thead>\n",
              "    <tr style=\"text-align: right;\">\n",
              "      <th></th>\n",
              "      <th>ApplicantIncome</th>\n",
              "      <th>CoapplicantIncome</th>\n",
              "      <th>LoanAmount</th>\n",
              "      <th>Loan_Amount_Term</th>\n",
              "      <th>Credit_History</th>\n",
              "    </tr>\n",
              "  </thead>\n",
              "  <tbody>\n",
              "    <tr>\n",
              "      <th>count</th>\n",
              "      <td>614.000000</td>\n",
              "      <td>614.000000</td>\n",
              "      <td>614.000000</td>\n",
              "      <td>614.000000</td>\n",
              "      <td>614.000000</td>\n",
              "    </tr>\n",
              "    <tr>\n",
              "      <th>mean</th>\n",
              "      <td>5403.459283</td>\n",
              "      <td>1621.245798</td>\n",
              "      <td>146.412162</td>\n",
              "      <td>342.000000</td>\n",
              "      <td>0.842199</td>\n",
              "    </tr>\n",
              "    <tr>\n",
              "      <th>std</th>\n",
              "      <td>6109.041673</td>\n",
              "      <td>2926.248369</td>\n",
              "      <td>84.037468</td>\n",
              "      <td>64.372489</td>\n",
              "      <td>0.349681</td>\n",
              "    </tr>\n",
              "    <tr>\n",
              "      <th>min</th>\n",
              "      <td>150.000000</td>\n",
              "      <td>0.000000</td>\n",
              "      <td>9.000000</td>\n",
              "      <td>12.000000</td>\n",
              "      <td>0.000000</td>\n",
              "    </tr>\n",
              "    <tr>\n",
              "      <th>25%</th>\n",
              "      <td>2877.500000</td>\n",
              "      <td>0.000000</td>\n",
              "      <td>100.250000</td>\n",
              "      <td>360.000000</td>\n",
              "      <td>1.000000</td>\n",
              "    </tr>\n",
              "    <tr>\n",
              "      <th>50%</th>\n",
              "      <td>3812.500000</td>\n",
              "      <td>1188.500000</td>\n",
              "      <td>129.000000</td>\n",
              "      <td>360.000000</td>\n",
              "      <td>1.000000</td>\n",
              "    </tr>\n",
              "    <tr>\n",
              "      <th>75%</th>\n",
              "      <td>5795.000000</td>\n",
              "      <td>2297.250000</td>\n",
              "      <td>164.750000</td>\n",
              "      <td>360.000000</td>\n",
              "      <td>1.000000</td>\n",
              "    </tr>\n",
              "    <tr>\n",
              "      <th>max</th>\n",
              "      <td>81000.000000</td>\n",
              "      <td>41667.000000</td>\n",
              "      <td>700.000000</td>\n",
              "      <td>480.000000</td>\n",
              "      <td>1.000000</td>\n",
              "    </tr>\n",
              "  </tbody>\n",
              "</table>\n",
              "</div>\n",
              "      <button class=\"colab-df-convert\" onclick=\"convertToInteractive('df-790782c5-b475-4708-b2be-12bcb0e77fbc')\"\n",
              "              title=\"Convert this dataframe to an interactive table.\"\n",
              "              style=\"display:none;\">\n",
              "        \n",
              "  <svg xmlns=\"http://www.w3.org/2000/svg\" height=\"24px\"viewBox=\"0 0 24 24\"\n",
              "       width=\"24px\">\n",
              "    <path d=\"M0 0h24v24H0V0z\" fill=\"none\"/>\n",
              "    <path d=\"M18.56 5.44l.94 2.06.94-2.06 2.06-.94-2.06-.94-.94-2.06-.94 2.06-2.06.94zm-11 1L8.5 8.5l.94-2.06 2.06-.94-2.06-.94L8.5 2.5l-.94 2.06-2.06.94zm10 10l.94 2.06.94-2.06 2.06-.94-2.06-.94-.94-2.06-.94 2.06-2.06.94z\"/><path d=\"M17.41 7.96l-1.37-1.37c-.4-.4-.92-.59-1.43-.59-.52 0-1.04.2-1.43.59L10.3 9.45l-7.72 7.72c-.78.78-.78 2.05 0 2.83L4 21.41c.39.39.9.59 1.41.59.51 0 1.02-.2 1.41-.59l7.78-7.78 2.81-2.81c.8-.78.8-2.07 0-2.86zM5.41 20L4 18.59l7.72-7.72 1.47 1.35L5.41 20z\"/>\n",
              "  </svg>\n",
              "      </button>\n",
              "      \n",
              "  <style>\n",
              "    .colab-df-container {\n",
              "      display:flex;\n",
              "      flex-wrap:wrap;\n",
              "      gap: 12px;\n",
              "    }\n",
              "\n",
              "    .colab-df-convert {\n",
              "      background-color: #E8F0FE;\n",
              "      border: none;\n",
              "      border-radius: 50%;\n",
              "      cursor: pointer;\n",
              "      display: none;\n",
              "      fill: #1967D2;\n",
              "      height: 32px;\n",
              "      padding: 0 0 0 0;\n",
              "      width: 32px;\n",
              "    }\n",
              "\n",
              "    .colab-df-convert:hover {\n",
              "      background-color: #E2EBFA;\n",
              "      box-shadow: 0px 1px 2px rgba(60, 64, 67, 0.3), 0px 1px 3px 1px rgba(60, 64, 67, 0.15);\n",
              "      fill: #174EA6;\n",
              "    }\n",
              "\n",
              "    [theme=dark] .colab-df-convert {\n",
              "      background-color: #3B4455;\n",
              "      fill: #D2E3FC;\n",
              "    }\n",
              "\n",
              "    [theme=dark] .colab-df-convert:hover {\n",
              "      background-color: #434B5C;\n",
              "      box-shadow: 0px 1px 3px 1px rgba(0, 0, 0, 0.15);\n",
              "      filter: drop-shadow(0px 1px 2px rgba(0, 0, 0, 0.3));\n",
              "      fill: #FFFFFF;\n",
              "    }\n",
              "  </style>\n",
              "\n",
              "      <script>\n",
              "        const buttonEl =\n",
              "          document.querySelector('#df-790782c5-b475-4708-b2be-12bcb0e77fbc button.colab-df-convert');\n",
              "        buttonEl.style.display =\n",
              "          google.colab.kernel.accessAllowed ? 'block' : 'none';\n",
              "\n",
              "        async function convertToInteractive(key) {\n",
              "          const element = document.querySelector('#df-790782c5-b475-4708-b2be-12bcb0e77fbc');\n",
              "          const dataTable =\n",
              "            await google.colab.kernel.invokeFunction('convertToInteractive',\n",
              "                                                     [key], {});\n",
              "          if (!dataTable) return;\n",
              "\n",
              "          const docLinkHtml = 'Like what you see? Visit the ' +\n",
              "            '<a target=\"_blank\" href=https://colab.research.google.com/notebooks/data_table.ipynb>data table notebook</a>'\n",
              "            + ' to learn more about interactive tables.';\n",
              "          element.innerHTML = '';\n",
              "          dataTable['output_type'] = 'display_data';\n",
              "          await google.colab.output.renderOutput(dataTable, element);\n",
              "          const docLink = document.createElement('div');\n",
              "          docLink.innerHTML = docLinkHtml;\n",
              "          element.appendChild(docLink);\n",
              "        }\n",
              "      </script>\n",
              "    </div>\n",
              "  </div>\n",
              "  "
            ]
          },
          "metadata": {},
          "execution_count": 10
        }
      ]
    },
    {
      "cell_type": "code",
      "source": [
        "# Converting categorical values to number\n",
        "from sklearn.preprocessing import LabelEncoder\n",
        "\n",
        "le = LabelEncoder()"
      ],
      "metadata": {
        "id": "tbp5mFTNwGiK"
      },
      "execution_count": 11,
      "outputs": []
    },
    {
      "cell_type": "code",
      "source": [
        "df['Married'] = le.fit_transform(df['Married'])"
      ],
      "metadata": {
        "id": "ncuFl8v7yydt"
      },
      "execution_count": 12,
      "outputs": []
    },
    {
      "cell_type": "code",
      "source": [
        "df['Dependents'] = le.fit_transform(df['Dependents'])\n",
        "df['Education'] = le.fit_transform(df['Education'])\n",
        "df['Self_Employed'] = le.fit_transform(df['Self_Employed'])\n",
        "df['Property_Area'] = le.fit_transform(df['Property_Area'])\n",
        "df['Loan_Status'] = le.fit_transform(df['Loan_Status'])"
      ],
      "metadata": {
        "id": "5sSRr_ZozVl0"
      },
      "execution_count": 13,
      "outputs": []
    },
    {
      "cell_type": "code",
      "source": [
        "df.info()"
      ],
      "metadata": {
        "colab": {
          "base_uri": "https://localhost:8080/"
        },
        "id": "EKyif30u0cNG",
        "outputId": "b45e5c50-25cb-4459-f662-68b933bfc78b"
      },
      "execution_count": 14,
      "outputs": [
        {
          "output_type": "stream",
          "name": "stdout",
          "text": [
            "<class 'pandas.core.frame.DataFrame'>\n",
            "RangeIndex: 614 entries, 0 to 613\n",
            "Data columns (total 11 columns):\n",
            " #   Column             Non-Null Count  Dtype  \n",
            "---  ------             --------------  -----  \n",
            " 0   Married            614 non-null    int64  \n",
            " 1   Dependents         614 non-null    int64  \n",
            " 2   Education          614 non-null    int64  \n",
            " 3   Self_Employed      614 non-null    int64  \n",
            " 4   ApplicantIncome    614 non-null    int64  \n",
            " 5   CoapplicantIncome  614 non-null    float64\n",
            " 6   LoanAmount         614 non-null    float64\n",
            " 7   Loan_Amount_Term   614 non-null    float64\n",
            " 8   Credit_History     614 non-null    float64\n",
            " 9   Property_Area      614 non-null    int64  \n",
            " 10  Loan_Status        614 non-null    int64  \n",
            "dtypes: float64(4), int64(7)\n",
            "memory usage: 52.9 KB\n"
          ]
        }
      ]
    },
    {
      "cell_type": "code",
      "source": [
        "df.nunique()"
      ],
      "metadata": {
        "colab": {
          "base_uri": "https://localhost:8080/"
        },
        "id": "kDjR0m5i0duN",
        "outputId": "91735f62-c74a-49bf-d951-610a2e880fcc"
      },
      "execution_count": 15,
      "outputs": [
        {
          "output_type": "execute_result",
          "data": {
            "text/plain": [
              "Married                2\n",
              "Dependents             4\n",
              "Education              2\n",
              "Self_Employed          2\n",
              "ApplicantIncome      505\n",
              "CoapplicantIncome    287\n",
              "LoanAmount           204\n",
              "Loan_Amount_Term      11\n",
              "Credit_History         3\n",
              "Property_Area          3\n",
              "Loan_Status            2\n",
              "dtype: int64"
            ]
          },
          "metadata": {},
          "execution_count": 15
        }
      ]
    },
    {
      "cell_type": "code",
      "source": [
        "for column in df.columns:\n",
        "  print(df[column].value_counts())\n",
        "  print('________________________________')"
      ],
      "metadata": {
        "colab": {
          "base_uri": "https://localhost:8080/"
        },
        "id": "5PJaaxnY3Zp-",
        "outputId": "8f3c0af4-f61e-49ce-9fbc-b2a0dccc2bbb"
      },
      "execution_count": 16,
      "outputs": [
        {
          "output_type": "stream",
          "name": "stdout",
          "text": [
            "1    401\n",
            "0    213\n",
            "Name: Married, dtype: int64\n",
            "________________________________\n",
            "0    360\n",
            "1    102\n",
            "2    101\n",
            "3     51\n",
            "Name: Dependents, dtype: int64\n",
            "________________________________\n",
            "0    480\n",
            "1    134\n",
            "Name: Education, dtype: int64\n",
            "________________________________\n",
            "0    532\n",
            "1     82\n",
            "Name: Self_Employed, dtype: int64\n",
            "________________________________\n",
            "2500    9\n",
            "4583    6\n",
            "6000    6\n",
            "2600    6\n",
            "3333    5\n",
            "       ..\n",
            "3244    1\n",
            "4408    1\n",
            "3917    1\n",
            "3992    1\n",
            "7583    1\n",
            "Name: ApplicantIncome, Length: 505, dtype: int64\n",
            "________________________________\n",
            "0.0       273\n",
            "2500.0      5\n",
            "2083.0      5\n",
            "1666.0      5\n",
            "2250.0      3\n",
            "         ... \n",
            "2791.0      1\n",
            "1010.0      1\n",
            "1695.0      1\n",
            "2598.0      1\n",
            "240.0       1\n",
            "Name: CoapplicantIncome, Length: 287, dtype: int64\n",
            "________________________________\n",
            "146.412162    22\n",
            "120.000000    20\n",
            "110.000000    17\n",
            "100.000000    15\n",
            "160.000000    12\n",
            "              ..\n",
            "240.000000     1\n",
            "214.000000     1\n",
            "59.000000      1\n",
            "166.000000     1\n",
            "253.000000     1\n",
            "Name: LoanAmount, Length: 204, dtype: int64\n",
            "________________________________\n",
            "360.0    512\n",
            "180.0     44\n",
            "480.0     15\n",
            "342.0     14\n",
            "300.0     13\n",
            "240.0      4\n",
            "84.0       4\n",
            "120.0      3\n",
            "60.0       2\n",
            "36.0       2\n",
            "12.0       1\n",
            "Name: Loan_Amount_Term, dtype: int64\n",
            "________________________________\n",
            "1.000000    475\n",
            "0.000000     89\n",
            "0.842199     50\n",
            "Name: Credit_History, dtype: int64\n",
            "________________________________\n",
            "1    233\n",
            "2    202\n",
            "0    179\n",
            "Name: Property_Area, dtype: int64\n",
            "________________________________\n",
            "1    422\n",
            "0    192\n",
            "Name: Loan_Status, dtype: int64\n",
            "________________________________\n"
          ]
        }
      ]
    },
    {
      "cell_type": "code",
      "source": [
        "df.plot(kind='box',layout=(4,3),subplots=True,figsize=(10,30)); # checking outliers"
      ],
      "metadata": {
        "colab": {
          "base_uri": "https://localhost:8080/",
          "height": 1000
        },
        "id": "C4aedJhz4Zcu",
        "outputId": "2dd5b882-2ef1-425f-8994-c044c96f5219"
      },
      "execution_count": 17,
      "outputs": [
        {
          "output_type": "display_data",
          "data": {
            "text/plain": [
              "<Figure size 720x2160 with 12 Axes>"
            ],
            "image/png": "[encoded data removed]"
          },
          "metadata": {
            "needs_background": "light"
          }
        }
      ]
    },
    {
      "cell_type": "code",
      "source": [
        "# Removing Outliers\n",
        "\n",
        "from scipy import stats\n",
        "\n",
        "z = np.abs(stats.zscore(df))\n",
        "index = (np.where(z > 3)[0])\n",
        "\n",
        "df_new = df.drop(df.index[index])"
      ],
      "metadata": {
        "id": "Z3hufV6S6aJn"
      },
      "execution_count": 18,
      "outputs": []
    },
    {
      "cell_type": "code",
      "source": [
        "df_new.shape"
      ],
      "metadata": {
        "colab": {
          "base_uri": "https://localhost:8080/"
        },
        "id": "awdg6yj784Ak",
        "outputId": "c110751e-ac40-4abc-b0d7-324f0d4550d6"
      },
      "execution_count": 19,
      "outputs": [
        {
          "output_type": "execute_result",
          "data": {
            "text/plain": [
              "(577, 11)"
            ]
          },
          "metadata": {},
          "execution_count": 19
        }
      ]
    },
    {
      "cell_type": "code",
      "source": [
        "df.shape"
      ],
      "metadata": {
        "colab": {
          "base_uri": "https://localhost:8080/"
        },
        "id": "i-35rgno86wj",
        "outputId": "86dd218c-9825-41f4-a4b4-5fab60e08124"
      },
      "execution_count": 20,
      "outputs": [
        {
          "output_type": "execute_result",
          "data": {
            "text/plain": [
              "(614, 11)"
            ]
          },
          "metadata": {},
          "execution_count": 20
        }
      ]
    },
    {
      "cell_type": "code",
      "source": [
        "df_new.plot(kind='box',layout=(4,3),subplots=True,figsize=(10,12));"
      ],
      "metadata": {
        "colab": {
          "base_uri": "https://localhost:8080/",
          "height": 701
        },
        "id": "64fnaLq-9b6H",
        "outputId": "8a368143-7a12-49f5-db40-282d49b896a5"
      },
      "execution_count": 21,
      "outputs": [
        {
          "output_type": "display_data",
          "data": {
            "text/plain": [
              "<Figure size 720x864 with 12 Axes>"
            ],
            "image/png": "[encoded data removed]"
          },
          "metadata": {
            "needs_background": "light"
          }
        }
      ]
    },
    {
      "cell_type": "code",
      "source": [
        "df.columns"
      ],
      "metadata": {
        "colab": {
          "base_uri": "https://localhost:8080/"
        },
        "id": "UR7rBE2Y-VjF",
        "outputId": "fbac8045-d1b1-488f-c7c8-279904cacc8d"
      },
      "execution_count": 22,
      "outputs": [
        {
          "output_type": "execute_result",
          "data": {
            "text/plain": [
              "Index(['Married', 'Dependents', 'Education', 'Self_Employed',\n",
              "       'ApplicantIncome', 'CoapplicantIncome', 'LoanAmount',\n",
              "       'Loan_Amount_Term', 'Credit_History', 'Property_Area', 'Loan_Status'],\n",
              "      dtype='object')"
            ]
          },
          "metadata": {},
          "execution_count": 22
        }
      ]
    },
    {
      "cell_type": "code",
      "source": [
        "cor = df.corr() # checking correlation"
      ],
      "metadata": {
        "id": "BgXl8YgKDZRf"
      },
      "execution_count": 24,
      "outputs": []
    },
    {
      "cell_type": "code",
      "source": [
        "plt.figure(figsize=(12,10))\n",
        "sns.heatmap(cor,annot=True,linewidth=2)"
      ],
      "metadata": {
        "colab": {
          "base_uri": "https://localhost:8080/",
          "height": 700
        },
        "id": "_MUR4Ym9RyIi",
        "outputId": "3cb94b7d-ce3f-41d7-99ed-c4f8d932f4d1"
      },
      "execution_count": 27,
      "outputs": [
        {
          "output_type": "execute_result",
          "data": {
            "text/plain": [
              "<matplotlib.axes._subplots.AxesSubplot at 0x7fe29c11ba10>"
            ]
          },
          "metadata": {},
          "execution_count": 27
        },
        {
          "output_type": "display_data",
          "data": {
            "text/plain": [
              "<Figure size 864x720 with 2 Axes>"
            ],
            "image/png": "[encoded data removed]"
          },
          "metadata": {
            "needs_background": "light"
          }
        }
      ]
    },
    {
      "cell_type": "code",
      "source": [
        "X = df.drop(['Loan_Status'],axis=1)"
      ],
      "metadata": {
        "id": "jZy0hI4ZSR8-"
      },
      "execution_count": 31,
      "outputs": []
    },
    {
      "cell_type": "code",
      "source": [
        "y = df['Loan_Status']"
      ],
      "metadata": {
        "id": "Dyf_EAXGS9ta"
      },
      "execution_count": 35,
      "outputs": []
    },
    {
      "cell_type": "code",
      "source": [
        "from sklearn.preprocessing import StandardScaler\n",
        "ss= StandardScaler().fit_transform(X)"
      ],
      "metadata": {
        "id": "IYskbnwQUFOl"
      },
      "execution_count": 36,
      "outputs": []
    },
    {
      "cell_type": "code",
      "source": [
        "#checking for is there any VIF\n",
        "from statsmodels.stats.outliers_influence import variance_inflation_factor\n",
        "variables = ss\n",
        "\n",
        "vif = pd.DataFrame()\n",
        "\n",
        "vif[\"VIF\"] = [variance_inflation_factor(variables, i) for i in range(variables.shape[1])]\n",
        "vif[\"Features\"] = X.columns\n",
        "vif"
      ],
      "metadata": {
        "colab": {
          "base_uri": "https://localhost:8080/",
          "height": 363
        },
        "id": "3WoC36xcTfTl",
        "outputId": "07aa90a7-3fab-4fc2-9d10-9ee057a697b7"
      },
      "execution_count": 38,
      "outputs": [
        {
          "output_type": "execute_result",
          "data": {
            "text/plain": [
              "        VIF           Features\n",
              "0  1.150159            Married\n",
              "1  1.161591         Dependents\n",
              "2  1.061516          Education\n",
              "3  1.023534      Self_Employed\n",
              "4  1.629778    ApplicantIncome\n",
              "5  1.137310  CoapplicantIncome\n",
              "6  1.709072         LoanAmount\n",
              "7  1.048503   Loan_Amount_Term\n",
              "8  1.008317     Credit_History\n",
              "9  1.015512      Property_Area"
            ],
            "text/html": [
              "\n",
              "  <div id=\"df-4303616d-3f16-45ec-9760-d786efbf5e1e\">\n",
              "    <div class=\"colab-df-container\">\n",
              "      <div>\n",
              "<style scoped>\n",
              "    .dataframe tbody tr th:only-of-type {\n",
              "        vertical-align: middle;\n",
              "    }\n",
              "\n",
              "    .dataframe tbody tr th {\n",
              "        vertical-align: top;\n",
              "    }\n",
              "\n",
              "    .dataframe thead th {\n",
              "        text-align: right;\n",
              "    }\n",
              "</style>\n",
              "<table border=\"1\" class=\"dataframe\">\n",
              "  <thead>\n",
              "    <tr style=\"text-align: right;\">\n",
              "      <th></th>\n",
              "      <th>VIF</th>\n",
              "      <th>Features</th>\n",
              "    </tr>\n",
              "  </thead>\n",
              "  <tbody>\n",
              "    <tr>\n",
              "      <th>0</th>\n",
              "      <td>1.150159</td>\n",
              "      <td>Married</td>\n",
              "    </tr>\n",
              "    <tr>\n",
              "      <th>1</th>\n",
              "      <td>1.161591</td>\n",
              "      <td>Dependents</td>\n",
              "    </tr>\n",
              "    <tr>\n",
              "      <th>2</th>\n",
              "      <td>1.061516</td>\n",
              "      <td>Education</td>\n",
              "    </tr>\n",
              "    <tr>\n",
              "      <th>3</th>\n",
              "      <td>1.023534</td>\n",
              "      <td>Self_Employed</td>\n",
              "    </tr>\n",
              "    <tr>\n",
              "      <th>4</th>\n",
              "      <td>1.629778</td>\n",
              "      <td>ApplicantIncome</td>\n",
              "    </tr>\n",
              "    <tr>\n",
              "      <th>5</th>\n",
              "      <td>1.137310</td>\n",
              "      <td>CoapplicantIncome</td>\n",
              "    </tr>\n",
              "    <tr>\n",
              "      <th>6</th>\n",
              "      <td>1.709072</td>\n",
              "      <td>LoanAmount</td>\n",
              "    </tr>\n",
              "    <tr>\n",
              "      <th>7</th>\n",
              "      <td>1.048503</td>\n",
              "      <td>Loan_Amount_Term</td>\n",
              "    </tr>\n",
              "    <tr>\n",
              "      <th>8</th>\n",
              "      <td>1.008317</td>\n",
              "      <td>Credit_History</td>\n",
              "    </tr>\n",
              "    <tr>\n",
              "      <th>9</th>\n",
              "      <td>1.015512</td>\n",
              "      <td>Property_Area</td>\n",
              "    </tr>\n",
              "  </tbody>\n",
              "</table>\n",
              "</div>\n",
              "      <button class=\"colab-df-convert\" onclick=\"convertToInteractive('df-4303616d-3f16-45ec-9760-d786efbf5e1e')\"\n",
              "              title=\"Convert this dataframe to an interactive table.\"\n",
              "              style=\"display:none;\">\n",
              "        \n",
              "  <svg xmlns=\"http://www.w3.org/2000/svg\" height=\"24px\"viewBox=\"0 0 24 24\"\n",
              "       width=\"24px\">\n",
              "    <path d=\"M0 0h24v24H0V0z\" fill=\"none\"/>\n",
              "    <path d=\"M18.56 5.44l.94 2.06.94-2.06 2.06-.94-2.06-.94-.94-2.06-.94 2.06-2.06.94zm-11 1L8.5 8.5l.94-2.06 2.06-.94-2.06-.94L8.5 2.5l-.94 2.06-2.06.94zm10 10l.94 2.06.94-2.06 2.06-.94-2.06-.94-.94-2.06-.94 2.06-2.06.94z\"/><path d=\"M17.41 7.96l-1.37-1.37c-.4-.4-.92-.59-1.43-.59-.52 0-1.04.2-1.43.59L10.3 9.45l-7.72 7.72c-.78.78-.78 2.05 0 2.83L4 21.41c.39.39.9.59 1.41.59.51 0 1.02-.2 1.41-.59l7.78-7.78 2.81-2.81c.8-.78.8-2.07 0-2.86zM5.41 20L4 18.59l7.72-7.72 1.47 1.35L5.41 20z\"/>\n",
              "  </svg>\n",
              "      </button>\n",
              "      \n",
              "  <style>\n",
              "    .colab-df-container {\n",
              "      display:flex;\n",
              "      flex-wrap:wrap;\n",
              "      gap: 12px;\n",
              "    }\n",
              "\n",
              "    .colab-df-convert {\n",
              "      background-color: #E8F0FE;\n",
              "      border: none;\n",
              "      border-radius: 50%;\n",
              "      cursor: pointer;\n",
              "      display: none;\n",
              "      fill: #1967D2;\n",
              "      height: 32px;\n",
              "      padding: 0 0 0 0;\n",
              "      width: 32px;\n",
              "    }\n",
              "\n",
              "    .colab-df-convert:hover {\n",
              "      background-color: #E2EBFA;\n",
              "      box-shadow: 0px 1px 2px rgba(60, 64, 67, 0.3), 0px 1px 3px 1px rgba(60, 64, 67, 0.15);\n",
              "      fill: #174EA6;\n",
              "    }\n",
              "\n",
              "    [theme=dark] .colab-df-convert {\n",
              "      background-color: #3B4455;\n",
              "      fill: #D2E3FC;\n",
              "    }\n",
              "\n",
              "    [theme=dark] .colab-df-convert:hover {\n",
              "      background-color: #434B5C;\n",
              "      box-shadow: 0px 1px 3px 1px rgba(0, 0, 0, 0.15);\n",
              "      filter: drop-shadow(0px 1px 2px rgba(0, 0, 0, 0.3));\n",
              "      fill: #FFFFFF;\n",
              "    }\n",
              "  </style>\n",
              "\n",
              "      <script>\n",
              "        const buttonEl =\n",
              "          document.querySelector('#df-4303616d-3f16-45ec-9760-d786efbf5e1e button.colab-df-convert');\n",
              "        buttonEl.style.display =\n",
              "          google.colab.kernel.accessAllowed ? 'block' : 'none';\n",
              "\n",
              "        async function convertToInteractive(key) {\n",
              "          const element = document.querySelector('#df-4303616d-3f16-45ec-9760-d786efbf5e1e');\n",
              "          const dataTable =\n",
              "            await google.colab.kernel.invokeFunction('convertToInteractive',\n",
              "                                                     [key], {});\n",
              "          if (!dataTable) return;\n",
              "\n",
              "          const docLinkHtml = 'Like what you see? Visit the ' +\n",
              "            '<a target=\"_blank\" href=https://colab.research.google.com/notebooks/data_table.ipynb>data table notebook</a>'\n",
              "            + ' to learn more about interactive tables.';\n",
              "          element.innerHTML = '';\n",
              "          dataTable['output_type'] = 'display_data';\n",
              "          await google.colab.output.renderOutput(dataTable, element);\n",
              "          const docLink = document.createElement('div');\n",
              "          docLink.innerHTML = docLinkHtml;\n",
              "          element.appendChild(docLink);\n",
              "        }\n",
              "      </script>\n",
              "    </div>\n",
              "  </div>\n",
              "  "
            ]
          },
          "metadata": {},
          "execution_count": 38
        }
      ]
    },
    {
      "cell_type": "code",
      "source": [
        "x=ss"
      ],
      "metadata": {
        "id": "7r2CFvQKT_M4"
      },
      "execution_count": 41,
      "outputs": []
    },
    {
      "cell_type": "code",
      "source": [
        "from sklearn.model_selection import train_test_split\n",
        "from sklearn.metrics import accuracy_score,confusion_matrix,classification_report\n",
        "x_train,x_test,y_train,y_test = train_test_split(x,y,test_size=.33,random_state=2)"
      ],
      "metadata": {
        "id": "uXnISeNnUe_t"
      },
      "execution_count": 43,
      "outputs": []
    },
    {
      "cell_type": "code",
      "source": [
        "# LOGISTIC REGRESSION\n",
        "from sklearn.linear_model import LogisticRegression\n",
        "lr = LogisticRegression()\n",
        "\n",
        "lr.fit(x_train,y_train)\n",
        "lr_predi = lr.predict(x_test)\n",
        "\n",
        "print('Accuracy of Logistic Regression :{:.2f}',accuracy_score(y_test,lr_predi))\n",
        "print('_'*60)\n",
        "lrcm=confusion_matrix(y_test,lr_predi)\n",
        "print('\\033[1m''Confusion Matrix\\n',lrcm)\n",
        "print('_'*60)\n",
        "print('\\n Classification Report\\n',classification_report(y_test,lr_predi))"
      ],
      "metadata": {
        "colab": {
          "base_uri": "https://localhost:8080/"
        },
        "id": "_SH3msnUVzzw",
        "outputId": "137b4d59-cb13-456a-acb2-636cfe39f0ab"
      },
      "execution_count": 50,
      "outputs": [
        {
          "output_type": "stream",
          "name": "stdout",
          "text": [
            "Accuracy of Logistic Regression :{:.2f} 0.7832512315270936\n",
            "____________________________________________________________\n",
            "\u001b[1mConfusion Matrix\n",
            " [[ 25  40]\n",
            " [  4 134]]\n",
            "____________________________________________________________\n",
            "\n",
            " Classification Report\n",
            "               precision    recall  f1-score   support\n",
            "\n",
            "           0       0.86      0.38      0.53        65\n",
            "           1       0.77      0.97      0.86       138\n",
            "\n",
            "    accuracy                           0.78       203\n",
            "   macro avg       0.82      0.68      0.70       203\n",
            "weighted avg       0.80      0.78      0.75       203\n",
            "\n"
          ]
        }
      ]
    },
    {
      "cell_type": "code",
      "source": [
        "# heatmap of confusion matrix of logistic regression\n",
        "\n",
        "sns.heatmap(lrcm,annot=True,cmap='Blues')\n",
        "plt.xlabel('Predicted')\n",
        "plt.ylabel('Actual')\n",
        "plt.show()"
      ],
      "metadata": {
        "colab": {
          "base_uri": "https://localhost:8080/",
          "height": 279
        },
        "id": "1AAgQ7Zje8_u",
        "outputId": "9305824c-81b3-4b1c-f85b-6eefa6ea6560"
      },
      "execution_count": 60,
      "outputs": [
        {
          "output_type": "display_data",
          "data": {
            "text/plain": [
              "<Figure size 432x288 with 2 Axes>"
            ],
            "image/png": "[encoded data removed]"
          },
          "metadata": {
            "needs_background": "light"
          }
        }
      ]
    },
    {
      "cell_type": "code",
      "source": [
        "# CROSS VALIDATION FOR LOGISTIC REGRESSION\n",
        "from sklearn.model_selection import cross_val_score\n",
        "score = cross_val_score(lr,x,y,cv=5) \n",
        "print(score)\n",
        "\n",
        "print(score.mean())\n",
        "print(score.std())"
      ],
      "metadata": {
        "colab": {
          "base_uri": "https://localhost:8080/"
        },
        "id": "y5HNJroUXlPo",
        "outputId": "7f290f73-4cc8-4e87-e533-3ec9e092e922"
      },
      "execution_count": 51,
      "outputs": [
        {
          "output_type": "stream",
          "name": "stdout",
          "text": [
            "[0.81300813 0.77235772 0.7804878  0.85365854 0.81967213]\n",
            "0.8078368652538984\n",
            "0.02923416378093254\n"
          ]
        }
      ]
    },
    {
      "cell_type": "code",
      "source": [
        "# AUC ROC CURVE FOR LOGISTIC REGRESSION\n",
        "from sklearn.metrics import roc_curve\n",
        "from sklearn.metrics import roc_auc_score"
      ],
      "metadata": {
        "id": "ALzxzW-5Z79r"
      },
      "execution_count": 52,
      "outputs": []
    },
    {
      "cell_type": "code",
      "source": [
        "pred_lr_proba = lr.predict_proba(x_test)[:,1]\n",
        "\n",
        "fpr,tpr,thresholds = roc_curve(y_test,pred_lr_proba)\n",
        "\n",
        "plt.plot([0,1],[0,1],'k--')\n",
        "plt.plot(fpr,tpr,label='Logistic Regression')\n",
        "plt.xlabel('False postive Rate')\n",
        "plt.ylabel('True positive Rate')\n",
        "plt.title('Logistic Regression')\n",
        "plt.show()"
      ],
      "metadata": {
        "colab": {
          "base_uri": "https://localhost:8080/",
          "height": 295
        },
        "id": "5kQDV6B2airI",
        "outputId": "cb589221-8996-4516-f836-3148d1029d06"
      },
      "execution_count": 54,
      "outputs": [
        {
          "output_type": "display_data",
          "data": {
            "text/plain": [
              "<Figure size 432x288 with 1 Axes>"
            ],
            "image/png": "[encoded data removed]"
          },
          "metadata": {
            "needs_background": "light"
          }
        }
      ]
    },
    {
      "cell_type": "code",
      "source": [
        "lr_auc_score = roc_auc_score(y_test,lr_predi)\n",
        "lr_auc_score"
      ],
      "metadata": {
        "colab": {
          "base_uri": "https://localhost:8080/"
        },
        "id": "rtmE7SXFbCdU",
        "outputId": "afbba13f-a5ee-4af8-d806-4a1ceaf6c247"
      },
      "execution_count": 59,
      "outputs": [
        {
          "output_type": "execute_result",
          "data": {
            "text/plain": [
              "0.6778149386845038"
            ]
          },
          "metadata": {},
          "execution_count": 59
        }
      ]
    },
    {
      "cell_type": "code",
      "source": [
        "# DECISION TREE CLASSIFIER\n",
        "\n",
        "from sklearn.tree import DecisionTreeClassifier\n",
        "dtc = DecisionTreeClassifier()\n",
        "# hyperparameter tuning\n",
        "criterion={'criterion':['gini','entropy']}\n",
        "from sklearn.model_selection import GridSearchCV\n",
        "grid = GridSearchCV(estimator=dtc, param_grid=criterion)\n",
        "grid.fit(x_train,y_train)\n",
        "print(grid)\n",
        "\n",
        "print(grid.best_score_)\n",
        "print(grid.best_estimator_.criterion)\n",
        "print(grid.best_params_)                                                     "
      ],
      "metadata": {
        "colab": {
          "base_uri": "https://localhost:8080/"
        },
        "id": "VMh4Ku6NbIoF",
        "outputId": "e86fc4fe-8ad3-4a67-aae8-6f28b191047b"
      },
      "execution_count": 61,
      "outputs": [
        {
          "output_type": "stream",
          "name": "stdout",
          "text": [
            "GridSearchCV(estimator=DecisionTreeClassifier(),\n",
            "             param_grid={'criterion': ['gini', 'entropy']})\n",
            "0.698354393182486\n",
            "gini\n",
            "{'criterion': 'gini'}\n"
          ]
        }
      ]
    },
    {
      "cell_type": "code",
      "source": [
        "dtc = DecisionTreeClassifier()\n",
        "\n",
        "dtc.fit(x_train,y_train)\n",
        "predi_dtc = dtc.predict(x_test)\n",
        "\n",
        "print(\"Decision Tree Classifier  ACCURACY SCORE :\",accuracy_score(y_test,predi_dtc))\n",
        "print(\"_\"*60)\n",
        "dtccm = confusion_matrix(y_test,predi_dtc)\n",
        "print(\"Decision Tree Classifier CONFUSION MATRIX :\",dtccm)\n",
        "print(\"_\"*90)\n",
        "print(\"Decision Tree Classifier CLASSIFICATION REPORT :\",classification_report(y_test,predi_dtc))"
      ],
      "metadata": {
        "colab": {
          "base_uri": "https://localhost:8080/"
        },
        "id": "R2vRL2Q_fcJj",
        "outputId": "cfb28ac2-14f3-4edf-e405-2ed4987ec72b"
      },
      "execution_count": 62,
      "outputs": [
        {
          "output_type": "stream",
          "name": "stdout",
          "text": [
            "Decision Tree Classifier  ACCURACY SCORE : 0.6798029556650246\n",
            "____________________________________________________________\n",
            "Decision Tree Classifier CONFUSION MATRIX : [[ 38  27]\n",
            " [ 38 100]]\n",
            "__________________________________________________________________________________________\n",
            "Decision Tree Classifier CLASSIFICATION REPORT :               precision    recall  f1-score   support\n",
            "\n",
            "           0       0.50      0.58      0.54        65\n",
            "           1       0.79      0.72      0.75       138\n",
            "\n",
            "    accuracy                           0.68       203\n",
            "   macro avg       0.64      0.65      0.65       203\n",
            "weighted avg       0.70      0.68      0.69       203\n",
            "\n"
          ]
        }
      ]
    },
    {
      "cell_type": "code",
      "source": [
        "# heatmap for confusion matrix of Decision Tree Classifier\n",
        "\n",
        "sns.heatmap(dtccm,annot=True,cmap='Blues')\n",
        "plt.xlabel('Predicted')\n",
        "plt.ylabel('Actual')\n",
        "plt.show()"
      ],
      "metadata": {
        "colab": {
          "base_uri": "https://localhost:8080/",
          "height": 283
        },
        "id": "OGlJ8gJWfmFm",
        "outputId": "dc32952b-195d-4850-9bf6-d624005e7e2e"
      },
      "execution_count": 63,
      "outputs": [
        {
          "output_type": "display_data",
          "data": {
            "text/plain": [
              "<Figure size 432x288 with 2 Axes>"
            ],
            "image/png": "[encoded data removed]"
          },
          "metadata": {
            "needs_background": "light"
          }
        }
      ]
    },
    {
      "cell_type": "code",
      "source": [
        "# auc roc curve of Decision Tree Classifier\n",
        "pred_dtc_proba = dtc.predict_proba(x_test)[:,1]\n",
        "dfpr,dtpr,dthresholds = roc_curve(y_test,pred_dtc_proba)\n",
        "\n",
        "\n",
        "plt.plot([0,1],[0,1],'k--')\n",
        "plt.plot(dfpr,dtpr,label='Decision Tree Classifier')\n",
        "plt.xlabel('False postive Rate')\n",
        "plt.ylabel('True positive Rate')\n",
        "plt.title('Decision Tree Classifier')\n",
        "plt.show()"
      ],
      "metadata": {
        "colab": {
          "base_uri": "https://localhost:8080/",
          "height": 295
        },
        "id": "y-J3hCpNfr5M",
        "outputId": "48b56413-a828-4d2d-8751-993f711b84b2"
      },
      "execution_count": 64,
      "outputs": [
        {
          "output_type": "display_data",
          "data": {
            "text/plain": [
              "<Figure size 432x288 with 1 Axes>"
            ],
            "image/png": "[encoded data removed]"
          },
          "metadata": {
            "needs_background": "light"
          }
        }
      ]
    },
    {
      "cell_type": "code",
      "source": [
        "dtc_auc_score = roc_auc_score(y_test,predi_dtc)# roc auc score\n",
        "dtc_auc_score"
      ],
      "metadata": {
        "colab": {
          "base_uri": "https://localhost:8080/"
        },
        "id": "3u4rW39Lf2ab",
        "outputId": "75906704-8798-4b5a-fe1f-9c1d31d734a6"
      },
      "execution_count": 65,
      "outputs": [
        {
          "output_type": "execute_result",
          "data": {
            "text/plain": [
              "0.6546265328874025"
            ]
          },
          "metadata": {},
          "execution_count": 65
        }
      ]
    },
    {
      "cell_type": "code",
      "source": [
        "# cross validation for Decision Tree Classifier\n",
        "\n",
        "from sklearn.model_selection import cross_val_score\n",
        "\n",
        "dtc_score = cross_val_score(dtc,x,y,cv=5)\n",
        "print(dtc_score)\n",
        "\n",
        "print(dtc_score.mean())\n",
        "print(dtc_score.std())"
      ],
      "metadata": {
        "colab": {
          "base_uri": "https://localhost:8080/"
        },
        "id": "d1JLXug3f6Zq",
        "outputId": "f8d1c170-856d-4979-bcfd-002b2c886b94"
      },
      "execution_count": 67,
      "outputs": [
        {
          "output_type": "stream",
          "name": "stdout",
          "text": [
            "[0.69105691 0.6504065  0.7804878  0.69918699 0.72131148]\n",
            "0.7084899373583899\n",
            "0.042690104723046435\n"
          ]
        }
      ]
    },
    {
      "cell_type": "code",
      "source": [
        "# SUPPORT VECTOR MACHINE\n",
        "\n",
        "from sklearn.svm import SVC\n",
        "svc = SVC()\n",
        "\n",
        "# hyperparameter tuning\n",
        "kernel={'kernel':['linear','poly','rbf']}\n",
        "from sklearn.model_selection import GridSearchCV\n",
        "gridsvc = GridSearchCV(estimator=svc, param_grid=kernel)\n",
        "gridsvc.fit(x_train,y_train)\n",
        "print(gridsvc)\n",
        "\n",
        "print(gridsvc.best_score_)\n",
        "print(gridsvc.best_estimator_.kernel)\n",
        "print(gridsvc.best_params_)"
      ],
      "metadata": {
        "colab": {
          "base_uri": "https://localhost:8080/"
        },
        "id": "zl_Gjq0pgMvo",
        "outputId": "45f16013-83ff-4b6e-d754-c4233790b951"
      },
      "execution_count": 68,
      "outputs": [
        {
          "output_type": "stream",
          "name": "stdout",
          "text": [
            "GridSearchCV(estimator=SVC(), param_grid={'kernel': ['linear', 'poly', 'rbf']})\n",
            "0.8175139582721128\n",
            "linear\n",
            "{'kernel': 'linear'}\n"
          ]
        }
      ]
    },
    {
      "cell_type": "code",
      "source": [
        "svc = SVC(kernel='linear', probability=True)\n",
        "svc.fit(x_train,y_train)\n",
        "svc_predi = svc.predict(x_test)\n",
        "\n",
        "print(\"SUPPORT VECTOR MACHINE  ACCURACY SCORE :\",accuracy_score(y_test,svc_predi))\n",
        "print(\"_\"*60)\n",
        "svccm = confusion_matrix(y_test,svc_predi)\n",
        "print(\"SUPPORT VECTOR MACHINE CONFUSION MATRIX :\",svccm)\n",
        "print(\"_\"*90)\n",
        "print(\"SUPPORT VECTOR MACHINE CLASSIFICATION REPORT :\",classification_report(y_test,svc_predi))"
      ],
      "metadata": {
        "colab": {
          "base_uri": "https://localhost:8080/"
        },
        "id": "8cVrguGugURo",
        "outputId": "495cd6e5-a0e0-46e2-8c3e-cd35f3432d64"
      },
      "execution_count": 70,
      "outputs": [
        {
          "output_type": "stream",
          "name": "stdout",
          "text": [
            "SUPPORT VECTOR MACHINE  ACCURACY SCORE : 0.7931034482758621\n",
            "____________________________________________________________\n",
            "SUPPORT VECTOR MACHINE CONFUSION MATRIX : [[ 26  39]\n",
            " [  3 135]]\n",
            "__________________________________________________________________________________________\n",
            "SUPPORT VECTOR MACHINE CLASSIFICATION REPORT :               precision    recall  f1-score   support\n",
            "\n",
            "           0       0.90      0.40      0.55        65\n",
            "           1       0.78      0.98      0.87       138\n",
            "\n",
            "    accuracy                           0.79       203\n",
            "   macro avg       0.84      0.69      0.71       203\n",
            "weighted avg       0.81      0.79      0.77       203\n",
            "\n"
          ]
        }
      ]
    },
    {
      "cell_type": "code",
      "source": [
        "#heatmap of confusion matrix of SUPPORT VECTOR MACHINE \n",
        "sns.heatmap(svccm,annot=True,cmap='Blues')\n",
        "plt.title(\"SUPPORT VECTOR MACHINE\")\n",
        "plt.xlabel('Predicted')\n",
        "plt.ylabel('Actual')\n",
        "plt.show()"
      ],
      "metadata": {
        "colab": {
          "base_uri": "https://localhost:8080/",
          "height": 295
        },
        "id": "xfXlSmvzgh1a",
        "outputId": "aaa861ee-e714-4596-fa9c-2d94e8f4ac2d"
      },
      "execution_count": 71,
      "outputs": [
        {
          "output_type": "display_data",
          "data": {
            "text/plain": [
              "<Figure size 432x288 with 2 Axes>"
            ],
            "image/png": "[encoded data removed]"
          },
          "metadata": {
            "needs_background": "light"
          }
        }
      ]
    },
    {
      "cell_type": "code",
      "source": [
        "# auc roc curve of SUPPORT VECTOR MACHINE\n",
        "pred_svc_proba = svc.predict_proba(x_test)[:,1]\n",
        "sfpr,stpr,sthresholds = roc_curve(y_test,pred_svc_proba)\n",
        "\n",
        "plt.plot([0,1],[0,1],'k--')\n",
        "plt.plot(sfpr,stpr,label='SUPPORT VECTOR MACHINE')\n",
        "plt.xlabel('False postive Rate')\n",
        "plt.ylabel('True positive Rate')\n",
        "plt.title('SUPPORT VECTOR MACHINE')\n",
        "plt.show()"
      ],
      "metadata": {
        "colab": {
          "base_uri": "https://localhost:8080/",
          "height": 295
        },
        "id": "G0p2eg6Ngj_o",
        "outputId": "936e0642-155a-42c9-ae20-52dd48e6a152"
      },
      "execution_count": 72,
      "outputs": [
        {
          "output_type": "display_data",
          "data": {
            "text/plain": [
              "<Figure size 432x288 with 1 Axes>"
            ],
            "image/png": "[encoded data removed]"
          },
          "metadata": {
            "needs_background": "light"
          }
        }
      ]
    },
    {
      "cell_type": "code",
      "source": [
        "svc_auc_score = roc_auc_score(y_test,svc_predi)# roc auc score\n",
        "svc_auc_score"
      ],
      "metadata": {
        "colab": {
          "base_uri": "https://localhost:8080/"
        },
        "id": "5MViWNF_gn01",
        "outputId": "f81ce934-bdf0-47e5-fbab-031d4b798d47"
      },
      "execution_count": 73,
      "outputs": [
        {
          "output_type": "execute_result",
          "data": {
            "text/plain": [
              "0.6891304347826086"
            ]
          },
          "metadata": {},
          "execution_count": 73
        }
      ]
    },
    {
      "cell_type": "code",
      "source": [
        "# cross validation for Support Vector machine\n",
        "\n",
        "\n",
        "\n",
        "svc_score = cross_val_score(svc,x,y,cv=5)\n",
        "print(svc_score)\n",
        "\n",
        "print(svc_score.mean())\n",
        "print(svc_score.std())"
      ],
      "metadata": {
        "colab": {
          "base_uri": "https://localhost:8080/"
        },
        "id": "KyxrrJbfgvy5",
        "outputId": "e80ecfea-db58-4833-d5d3-5406c50b47a8"
      },
      "execution_count": 74,
      "outputs": [
        {
          "output_type": "stream",
          "name": "stdout",
          "text": [
            "[0.81300813 0.7804878  0.7804878  0.85365854 0.81967213]\n",
            "0.809462881514061\n",
            "0.027383073694490688\n"
          ]
        }
      ]
    },
    {
      "cell_type": "code",
      "source": [
        "# KNEIGHBORS CLASSIFIER\n",
        "from sklearn.neighbors import KNeighborsClassifier\n",
        "\n",
        "knn = KNeighborsClassifier()\n",
        "# hyperparameter tuning\n",
        "n_neighbors={'n_neighbors':[1,2,3,4,5,6,7,8,9,10]}\n",
        "from sklearn.model_selection import GridSearchCV\n",
        "gridknn = GridSearchCV(estimator=knn, param_grid=n_neighbors)\n",
        "gridknn.fit(x_train,y_train)\n",
        "print(gridknn)\n",
        "\n",
        "print(gridknn.best_score_)\n",
        "print(gridknn.best_estimator_.n_neighbors)\n",
        "print(gridknn.best_params_)"
      ],
      "metadata": {
        "colab": {
          "base_uri": "https://localhost:8080/"
        },
        "id": "BknV_Rlygxz8",
        "outputId": "2df62841-4044-4043-b355-9c20f9b039f3"
      },
      "execution_count": 75,
      "outputs": [
        {
          "output_type": "stream",
          "name": "stdout",
          "text": [
            "GridSearchCV(estimator=KNeighborsClassifier(),\n",
            "             param_grid={'n_neighbors': [1, 2, 3, 4, 5, 6, 7, 8, 9, 10]})\n",
            "0.8005583308845138\n",
            "5\n",
            "{'n_neighbors': 5}\n"
          ]
        }
      ]
    },
    {
      "cell_type": "code",
      "source": [
        "knn = KNeighborsClassifier(n_neighbors=5)\n",
        "knn.fit(x_train,y_train)\n",
        "predi_knn = knn.predict(x_test)\n",
        "\n",
        "print(\"KNEIGHBORS CLASSIFIER  ACCURACY SCORE :\",accuracy_score(y_test,predi_knn))\n",
        "print(\"_\"*60)\n",
        "knncm = confusion_matrix(y_test,predi_knn)\n",
        "print(\"KNEIGHBORS CLASSIFIER CONFUSION MATRIX :\",knncm)\n",
        "print(\"_\"*90)\n",
        "print(\"KNEIGHBORS CLASSIFIER CLASSIFICATION REPORT :\",classification_report(y_test,predi_knn))"
      ],
      "metadata": {
        "colab": {
          "base_uri": "https://localhost:8080/"
        },
        "id": "dSIZ6RYXg6K3",
        "outputId": "1fd8b8d9-f83b-495d-ae07-6171471b0127"
      },
      "execution_count": 76,
      "outputs": [
        {
          "output_type": "stream",
          "name": "stdout",
          "text": [
            "KNEIGHBORS CLASSIFIER  ACCURACY SCORE : 0.7980295566502463\n",
            "____________________________________________________________\n",
            "KNEIGHBORS CLASSIFIER CONFUSION MATRIX : [[ 26  39]\n",
            " [  2 136]]\n",
            "__________________________________________________________________________________________\n",
            "KNEIGHBORS CLASSIFIER CLASSIFICATION REPORT :               precision    recall  f1-score   support\n",
            "\n",
            "           0       0.93      0.40      0.56        65\n",
            "           1       0.78      0.99      0.87       138\n",
            "\n",
            "    accuracy                           0.80       203\n",
            "   macro avg       0.85      0.69      0.71       203\n",
            "weighted avg       0.83      0.80      0.77       203\n",
            "\n"
          ]
        }
      ]
    },
    {
      "cell_type": "code",
      "source": [
        "#heatmap of confusion matrix of KNEIGHBORS CLASSIFIER \n",
        "sns.heatmap(knncm,annot=True,cmap='Blues')\n",
        "plt.title(\"KNEIGHBORS CLASSIFIER\")\n",
        "plt.xlabel('Predicted')\n",
        "plt.ylabel('Actual')\n",
        "plt.show()"
      ],
      "metadata": {
        "colab": {
          "base_uri": "https://localhost:8080/",
          "height": 295
        },
        "id": "um7e8tKnhDnQ",
        "outputId": "3ac9d264-cbec-4d5e-d496-7263a8893b0c"
      },
      "execution_count": 77,
      "outputs": [
        {
          "output_type": "display_data",
          "data": {
            "text/plain": [
              "<Figure size 432x288 with 2 Axes>"
            ],
            "image/png": "[encoded data removed]"
          },
          "metadata": {
            "needs_background": "light"
          }
        }
      ]
    },
    {
      "cell_type": "code",
      "source": [
        "# auc roc curve of KNEIGHBORS CLASSIFIER\n",
        "pred_knn_proba = knn.predict_proba(x_test)[:,1]\n",
        "kfpr,ktpr,kthresholds = roc_curve(y_test,pred_knn_proba)\n",
        "\n",
        "plt.plot([0,1],[0,1],'k--')\n",
        "plt.plot(kfpr,ktpr,label='KNEIGHBORS CLASSIFIER')\n",
        "plt.xlabel('False postive Rate')\n",
        "plt.ylabel('True positive Rate')\n",
        "plt.title('KNEIGHBORS CLASSIFIER')\n",
        "plt.show()"
      ],
      "metadata": {
        "colab": {
          "base_uri": "https://localhost:8080/",
          "height": 295
        },
        "id": "fsIGzJkRhJab",
        "outputId": "0f8c7b84-52f3-478e-cb92-8385b96258f2"
      },
      "execution_count": 78,
      "outputs": [
        {
          "output_type": "display_data",
          "data": {
            "text/plain": [
              "<Figure size 432x288 with 1 Axes>"
            ],
            "image/png": "[encoded data removed]"
          },
          "metadata": {
            "needs_background": "light"
          }
        }
      ]
    },
    {
      "cell_type": "code",
      "source": [
        "knn_auc_score = roc_auc_score(y_test,predi_knn)# roc auc score\n",
        "knn_auc_score"
      ],
      "metadata": {
        "colab": {
          "base_uri": "https://localhost:8080/"
        },
        "id": "4NGwceOshM_y",
        "outputId": "bf30e2f9-c570-4706-c301-f9256007c39a"
      },
      "execution_count": 79,
      "outputs": [
        {
          "output_type": "execute_result",
          "data": {
            "text/plain": [
              "0.6927536231884058"
            ]
          },
          "metadata": {},
          "execution_count": 79
        }
      ]
    },
    {
      "cell_type": "code",
      "source": [
        "# cross validation for KNEIGHBORS CLASSIFIER\n",
        "\n",
        "\n",
        "\n",
        "knn_score = cross_val_score(knn,x,y,cv=5)\n",
        "print(knn_score)\n",
        "\n",
        "print(knn_score.mean())\n",
        "print(knn_score.std())"
      ],
      "metadata": {
        "colab": {
          "base_uri": "https://localhost:8080/"
        },
        "id": "jsIZPC-IhSFT",
        "outputId": "13b6f6ab-b60f-490a-c109-d0c704faa187"
      },
      "execution_count": 81,
      "outputs": [
        {
          "output_type": "stream",
          "name": "stdout",
          "text": [
            "[0.78861789 0.7804878  0.75609756 0.78861789 0.79508197]\n",
            "0.7817806210848993\n",
            "0.013650737321294418\n"
          ]
        }
      ]
    },
    {
      "cell_type": "markdown",
      "source": [
        "**KNeighbors Classifier is giving best ACcuracy score hence saving the model**"
      ],
      "metadata": {
        "id": "DGGeGxe6icwT"
      }
    },
    {
      "cell_type": "code",
      "source": [
        "import joblib\n",
        "\n",
        "# saving the model\n",
        "joblib.dump(knn,'knnfile.obj')"
      ],
      "metadata": {
        "colab": {
          "base_uri": "https://localhost:8080/"
        },
        "id": "WyUCgozMhW2n",
        "outputId": "118014e0-51b7-43f7-e50a-c132f194ce4c"
      },
      "execution_count": 82,
      "outputs": [
        {
          "output_type": "execute_result",
          "data": {
            "text/plain": [
              "['knnfile.obj']"
            ]
          },
          "metadata": {},
          "execution_count": 82
        }
      ]
    },
    {
      "cell_type": "code",
      "source": [
        "knn_from_joblib = joblib.load('knnfile.obj') # loading the model"
      ],
      "metadata": {
        "id": "LpJk7Ovqiz-v"
      },
      "execution_count": 83,
      "outputs": []
    }
  ]
}