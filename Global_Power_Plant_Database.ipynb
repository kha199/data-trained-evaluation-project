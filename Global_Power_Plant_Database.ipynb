{
  "nbformat": 4,
  "nbformat_minor": 0,
  "metadata": {
    "colab": {
      "name": "Global Power Plant Database",
      "provenance": [],
      "authorship_tag": "ABX9TyMnpxJVz4D1Qr/5zNop5cDe"
    },
    "kernelspec": {
      "name": "python3",
      "display_name": "Python 3"
    },
    "language_info": {
      "name": "python"
    }
  },
  "cells": [
    {
      "cell_type": "code",
      "source": [
        "#Importing library for EDA\n",
        "import pandas as pd\n",
        "import numpy as np\n",
        "import seaborn as sns\n",
        "import matplotlib.pyplot as plt\n",
        "import warnings\n",
        "warnings.filterwarnings(\"ignore\")"
      ],
      "metadata": {
        "id": "MztJU-CX0rdl"
      },
      "execution_count": 1,
      "outputs": []
    },
    {
      "cell_type": "code",
      "execution_count": 2,
      "metadata": {
        "id": "5DBbMP4V0mvP"
      },
      "outputs": [],
      "source": [
        "df = pd.read_csv('https://raw.githubusercontent.com/wri/global-power-plant-database/master/source_databases_csv/database_IND.csv')"
      ]
    },
    {
      "cell_type": "code",
      "source": [
        "df"
      ],
      "metadata": {
        "colab": {
          "base_uri": "https://localhost:8080/",
          "height": 748
        },
        "id": "sGdcSwXj0xCx",
        "outputId": "2afab12f-925a-4cab-ae17-a179cc49dbbb"
      },
      "execution_count": 3,
      "outputs": [
        {
          "output_type": "execute_result",
          "data": {
            "text/plain": [
              "    country country_long                          name   gppd_idnr  \\\n",
              "0       IND        India              ACME Solar Tower  WRI1020239   \n",
              "1       IND        India           ADITYA CEMENT WORKS  WRI1019881   \n",
              "2       IND        India      AES Saurashtra Windfarms  WRI1026669   \n",
              "3       IND        India                   AGARTALA GT  IND0000001   \n",
              "4       IND        India                  AKALTARA TPP  IND0000002   \n",
              "..      ...          ...                           ...         ...   \n",
              "902     IND        India                  YERMARUS TPP  IND0000513   \n",
              "903     IND        India  Yelesandra Solar Power Plant  WRI1026222   \n",
              "904     IND        India  Yelisirur wind power project  WRI1026776   \n",
              "905     IND        India                   ZAWAR MINES  WRI1019901   \n",
              "906     IND        India       iEnergy Theni Wind Farm  WRI1026761   \n",
              "\n",
              "     capacity_mw  latitude  longitude primary_fuel other_fuel1 other_fuel2  \\\n",
              "0            2.5   28.1839    73.2407        Solar         NaN         NaN   \n",
              "1           98.0   24.7663    74.6090         Coal         NaN         NaN   \n",
              "2           39.2   21.9038    69.3732         Wind         NaN         NaN   \n",
              "3          135.0   23.8712    91.3602          Gas         NaN         NaN   \n",
              "4         1800.0   21.9603    82.4091         Coal         Oil         NaN   \n",
              "..           ...       ...        ...          ...         ...         ...   \n",
              "902       1600.0   16.2949    77.3568         Coal         Oil         NaN   \n",
              "903          3.0   12.8932    78.1654        Solar         NaN         NaN   \n",
              "904         25.5   15.2758    75.5811         Wind         NaN         NaN   \n",
              "905         80.0   24.3500    73.7477         Coal         NaN         NaN   \n",
              "906         16.5    9.9344    77.4768         Wind         NaN         NaN   \n",
              "\n",
              "     ...  year_of_capacity_data  generation_gwh_2013 generation_gwh_2014  \\\n",
              "0    ...                    NaN                  NaN                 NaN   \n",
              "1    ...                    NaN                  NaN                 NaN   \n",
              "2    ...                    NaN                  NaN                 NaN   \n",
              "3    ...                 2019.0                  NaN          617.789264   \n",
              "4    ...                 2019.0                  NaN         3035.550000   \n",
              "..   ...                    ...                  ...                 ...   \n",
              "902  ...                 2019.0                  NaN                 NaN   \n",
              "903  ...                    NaN                  NaN                 NaN   \n",
              "904  ...                    NaN                  NaN                 NaN   \n",
              "905  ...                    NaN                  NaN                 NaN   \n",
              "906  ...                    NaN                  NaN                 NaN   \n",
              "\n",
              "    generation_gwh_2015 generation_gwh_2016 generation_gwh_2017  \\\n",
              "0                   NaN                 NaN                 NaN   \n",
              "1                   NaN                 NaN                 NaN   \n",
              "2                   NaN                 NaN                 NaN   \n",
              "3            843.747000          886.004428          663.774500   \n",
              "4           5916.370000         6243.000000         5385.579736   \n",
              "..                  ...                 ...                 ...   \n",
              "902            0.994875          233.596650          865.400000   \n",
              "903                 NaN                 NaN                 NaN   \n",
              "904                 NaN                 NaN                 NaN   \n",
              "905                 NaN                 NaN                 NaN   \n",
              "906                 NaN                 NaN                 NaN   \n",
              "\n",
              "     generation_gwh_2018  generation_gwh_2019         generation_data_source  \\\n",
              "0                    NaN                  NaN                            NaN   \n",
              "1                    NaN                  NaN                            NaN   \n",
              "2                    NaN                  NaN                            NaN   \n",
              "3             626.239128                  NaN  Central Electricity Authority   \n",
              "4            7279.000000                  NaN  Central Electricity Authority   \n",
              "..                   ...                  ...                            ...   \n",
              "902           686.500000                  NaN  Central Electricity Authority   \n",
              "903                  NaN                  NaN                            NaN   \n",
              "904                  NaN                  NaN                            NaN   \n",
              "905                  NaN                  NaN                            NaN   \n",
              "906                  NaN                  NaN                            NaN   \n",
              "\n",
              "     estimated_generation_gwh  \n",
              "0                         NaN  \n",
              "1                         NaN  \n",
              "2                         NaN  \n",
              "3                         NaN  \n",
              "4                         NaN  \n",
              "..                        ...  \n",
              "902                       NaN  \n",
              "903                       NaN  \n",
              "904                       NaN  \n",
              "905                       NaN  \n",
              "906                       NaN  \n",
              "\n",
              "[907 rows x 27 columns]"
            ],
            "text/html": [
              "\n",
              "  <div id=\"df-8e5d9a11-5bfd-4dac-b9a1-2e2ff26a7f54\">\n",
              "    <div class=\"colab-df-container\">\n",
              "      <div>\n",
              "<style scoped>\n",
              "    .dataframe tbody tr th:only-of-type {\n",
              "        vertical-align: middle;\n",
              "    }\n",
              "\n",
              "    .dataframe tbody tr th {\n",
              "        vertical-align: top;\n",
              "    }\n",
              "\n",
              "    .dataframe thead th {\n",
              "        text-align: right;\n",
              "    }\n",
              "</style>\n",
              "<table border=\"1\" class=\"dataframe\">\n",
              "  <thead>\n",
              "    <tr style=\"text-align: right;\">\n",
              "      <th></th>\n",
              "      <th>country</th>\n",
              "      <th>country_long</th>\n",
              "      <th>name</th>\n",
              "      <th>gppd_idnr</th>\n",
              "      <th>capacity_mw</th>\n",
              "      <th>latitude</th>\n",
              "      <th>longitude</th>\n",
              "      <th>primary_fuel</th>\n",
              "      <th>other_fuel1</th>\n",
              "      <th>other_fuel2</th>\n",
              "      <th>...</th>\n",
              "      <th>year_of_capacity_data</th>\n",
              "      <th>generation_gwh_2013</th>\n",
              "      <th>generation_gwh_2014</th>\n",
              "      <th>generation_gwh_2015</th>\n",
              "      <th>generation_gwh_2016</th>\n",
              "      <th>generation_gwh_2017</th>\n",
              "      <th>generation_gwh_2018</th>\n",
              "      <th>generation_gwh_2019</th>\n",
              "      <th>generation_data_source</th>\n",
              "      <th>estimated_generation_gwh</th>\n",
              "    </tr>\n",
              "  </thead>\n",
              "  <tbody>\n",
              "    <tr>\n",
              "      <th>0</th>\n",
              "      <td>IND</td>\n",
              "      <td>India</td>\n",
              "      <td>ACME Solar Tower</td>\n",
              "      <td>WRI1020239</td>\n",
              "      <td>2.5</td>\n",
              "      <td>28.1839</td>\n",
              "      <td>73.2407</td>\n",
              "      <td>Solar</td>\n",
              "      <td>NaN</td>\n",
              "      <td>NaN</td>\n",
              "      <td>...</td>\n",
              "      <td>NaN</td>\n",
              "      <td>NaN</td>\n",
              "      <td>NaN</td>\n",
              "      <td>NaN</td>\n",
              "      <td>NaN</td>\n",
              "      <td>NaN</td>\n",
              "      <td>NaN</td>\n",
              "      <td>NaN</td>\n",
              "      <td>NaN</td>\n",
              "      <td>NaN</td>\n",
              "    </tr>\n",
              "    <tr>\n",
              "      <th>1</th>\n",
              "      <td>IND</td>\n",
              "      <td>India</td>\n",
              "      <td>ADITYA CEMENT WORKS</td>\n",
              "      <td>WRI1019881</td>\n",
              "      <td>98.0</td>\n",
              "      <td>24.7663</td>\n",
              "      <td>74.6090</td>\n",
              "      <td>Coal</td>\n",
              "      <td>NaN</td>\n",
              "      <td>NaN</td>\n",
              "      <td>...</td>\n",
              "      <td>NaN</td>\n",
              "      <td>NaN</td>\n",
              "      <td>NaN</td>\n",
              "      <td>NaN</td>\n",
              "      <td>NaN</td>\n",
              "      <td>NaN</td>\n",
              "      <td>NaN</td>\n",
              "      <td>NaN</td>\n",
              "      <td>NaN</td>\n",
              "      <td>NaN</td>\n",
              "    </tr>\n",
              "    <tr>\n",
              "      <th>2</th>\n",
              "      <td>IND</td>\n",
              "      <td>India</td>\n",
              "      <td>AES Saurashtra Windfarms</td>\n",
              "      <td>WRI1026669</td>\n",
              "      <td>39.2</td>\n",
              "      <td>21.9038</td>\n",
              "      <td>69.3732</td>\n",
              "      <td>Wind</td>\n",
              "      <td>NaN</td>\n",
              "      <td>NaN</td>\n",
              "      <td>...</td>\n",
              "      <td>NaN</td>\n",
              "      <td>NaN</td>\n",
              "      <td>NaN</td>\n",
              "      <td>NaN</td>\n",
              "      <td>NaN</td>\n",
              "      <td>NaN</td>\n",
              "      <td>NaN</td>\n",
              "      <td>NaN</td>\n",
              "      <td>NaN</td>\n",
              "      <td>NaN</td>\n",
              "    </tr>\n",
              "    <tr>\n",
              "      <th>3</th>\n",
              "      <td>IND</td>\n",
              "      <td>India</td>\n",
              "      <td>AGARTALA GT</td>\n",
              "      <td>IND0000001</td>\n",
              "      <td>135.0</td>\n",
              "      <td>23.8712</td>\n",
              "      <td>91.3602</td>\n",
              "      <td>Gas</td>\n",
              "      <td>NaN</td>\n",
              "      <td>NaN</td>\n",
              "      <td>...</td>\n",
              "      <td>2019.0</td>\n",
              "      <td>NaN</td>\n",
              "      <td>617.789264</td>\n",
              "      <td>843.747000</td>\n",
              "      <td>886.004428</td>\n",
              "      <td>663.774500</td>\n",
              "      <td>626.239128</td>\n",
              "      <td>NaN</td>\n",
              "      <td>Central Electricity Authority</td>\n",
              "      <td>NaN</td>\n",
              "    </tr>\n",
              "    <tr>\n",
              "      <th>4</th>\n",
              "      <td>IND</td>\n",
              "      <td>India</td>\n",
              "      <td>AKALTARA TPP</td>\n",
              "      <td>IND0000002</td>\n",
              "      <td>1800.0</td>\n",
              "      <td>21.9603</td>\n",
              "      <td>82.4091</td>\n",
              "      <td>Coal</td>\n",
              "      <td>Oil</td>\n",
              "      <td>NaN</td>\n",
              "      <td>...</td>\n",
              "      <td>2019.0</td>\n",
              "      <td>NaN</td>\n",
              "      <td>3035.550000</td>\n",
              "      <td>5916.370000</td>\n",
              "      <td>6243.000000</td>\n",
              "      <td>5385.579736</td>\n",
              "      <td>7279.000000</td>\n",
              "      <td>NaN</td>\n",
              "      <td>Central Electricity Authority</td>\n",
              "      <td>NaN</td>\n",
              "    </tr>\n",
              "    <tr>\n",
              "      <th>...</th>\n",
              "      <td>...</td>\n",
              "      <td>...</td>\n",
              "      <td>...</td>\n",
              "      <td>...</td>\n",
              "      <td>...</td>\n",
              "      <td>...</td>\n",
              "      <td>...</td>\n",
              "      <td>...</td>\n",
              "      <td>...</td>\n",
              "      <td>...</td>\n",
              "      <td>...</td>\n",
              "      <td>...</td>\n",
              "      <td>...</td>\n",
              "      <td>...</td>\n",
              "      <td>...</td>\n",
              "      <td>...</td>\n",
              "      <td>...</td>\n",
              "      <td>...</td>\n",
              "      <td>...</td>\n",
              "      <td>...</td>\n",
              "      <td>...</td>\n",
              "    </tr>\n",
              "    <tr>\n",
              "      <th>902</th>\n",
              "      <td>IND</td>\n",
              "      <td>India</td>\n",
              "      <td>YERMARUS TPP</td>\n",
              "      <td>IND0000513</td>\n",
              "      <td>1600.0</td>\n",
              "      <td>16.2949</td>\n",
              "      <td>77.3568</td>\n",
              "      <td>Coal</td>\n",
              "      <td>Oil</td>\n",
              "      <td>NaN</td>\n",
              "      <td>...</td>\n",
              "      <td>2019.0</td>\n",
              "      <td>NaN</td>\n",
              "      <td>NaN</td>\n",
              "      <td>0.994875</td>\n",
              "      <td>233.596650</td>\n",
              "      <td>865.400000</td>\n",
              "      <td>686.500000</td>\n",
              "      <td>NaN</td>\n",
              "      <td>Central Electricity Authority</td>\n",
              "      <td>NaN</td>\n",
              "    </tr>\n",
              "    <tr>\n",
              "      <th>903</th>\n",
              "      <td>IND</td>\n",
              "      <td>India</td>\n",
              "      <td>Yelesandra Solar Power Plant</td>\n",
              "      <td>WRI1026222</td>\n",
              "      <td>3.0</td>\n",
              "      <td>12.8932</td>\n",
              "      <td>78.1654</td>\n",
              "      <td>Solar</td>\n",
              "      <td>NaN</td>\n",
              "      <td>NaN</td>\n",
              "      <td>...</td>\n",
              "      <td>NaN</td>\n",
              "      <td>NaN</td>\n",
              "      <td>NaN</td>\n",
              "      <td>NaN</td>\n",
              "      <td>NaN</td>\n",
              "      <td>NaN</td>\n",
              "      <td>NaN</td>\n",
              "      <td>NaN</td>\n",
              "      <td>NaN</td>\n",
              "      <td>NaN</td>\n",
              "    </tr>\n",
              "    <tr>\n",
              "      <th>904</th>\n",
              "      <td>IND</td>\n",
              "      <td>India</td>\n",
              "      <td>Yelisirur wind power project</td>\n",
              "      <td>WRI1026776</td>\n",
              "      <td>25.5</td>\n",
              "      <td>15.2758</td>\n",
              "      <td>75.5811</td>\n",
              "      <td>Wind</td>\n",
              "      <td>NaN</td>\n",
              "      <td>NaN</td>\n",
              "      <td>...</td>\n",
              "      <td>NaN</td>\n",
              "      <td>NaN</td>\n",
              "      <td>NaN</td>\n",
              "      <td>NaN</td>\n",
              "      <td>NaN</td>\n",
              "      <td>NaN</td>\n",
              "      <td>NaN</td>\n",
              "      <td>NaN</td>\n",
              "      <td>NaN</td>\n",
              "      <td>NaN</td>\n",
              "    </tr>\n",
              "    <tr>\n",
              "      <th>905</th>\n",
              "      <td>IND</td>\n",
              "      <td>India</td>\n",
              "      <td>ZAWAR MINES</td>\n",
              "      <td>WRI1019901</td>\n",
              "      <td>80.0</td>\n",
              "      <td>24.3500</td>\n",
              "      <td>73.7477</td>\n",
              "      <td>Coal</td>\n",
              "      <td>NaN</td>\n",
              "      <td>NaN</td>\n",
              "      <td>...</td>\n",
              "      <td>NaN</td>\n",
              "      <td>NaN</td>\n",
              "      <td>NaN</td>\n",
              "      <td>NaN</td>\n",
              "      <td>NaN</td>\n",
              "      <td>NaN</td>\n",
              "      <td>NaN</td>\n",
              "      <td>NaN</td>\n",
              "      <td>NaN</td>\n",
              "      <td>NaN</td>\n",
              "    </tr>\n",
              "    <tr>\n",
              "      <th>906</th>\n",
              "      <td>IND</td>\n",
              "      <td>India</td>\n",
              "      <td>iEnergy Theni Wind Farm</td>\n",
              "      <td>WRI1026761</td>\n",
              "      <td>16.5</td>\n",
              "      <td>9.9344</td>\n",
              "      <td>77.4768</td>\n",
              "      <td>Wind</td>\n",
              "      <td>NaN</td>\n",
              "      <td>NaN</td>\n",
              "      <td>...</td>\n",
              "      <td>NaN</td>\n",
              "      <td>NaN</td>\n",
              "      <td>NaN</td>\n",
              "      <td>NaN</td>\n",
              "      <td>NaN</td>\n",
              "      <td>NaN</td>\n",
              "      <td>NaN</td>\n",
              "      <td>NaN</td>\n",
              "      <td>NaN</td>\n",
              "      <td>NaN</td>\n",
              "    </tr>\n",
              "  </tbody>\n",
              "</table>\n",
              "<p>907 rows × 27 columns</p>\n",
              "</div>\n",
              "      <button class=\"colab-df-convert\" onclick=\"convertToInteractive('df-8e5d9a11-5bfd-4dac-b9a1-2e2ff26a7f54')\"\n",
              "              title=\"Convert this dataframe to an interactive table.\"\n",
              "              style=\"display:none;\">\n",
              "        \n",
              "  <svg xmlns=\"http://www.w3.org/2000/svg\" height=\"24px\"viewBox=\"0 0 24 24\"\n",
              "       width=\"24px\">\n",
              "    <path d=\"M0 0h24v24H0V0z\" fill=\"none\"/>\n",
              "    <path d=\"M18.56 5.44l.94 2.06.94-2.06 2.06-.94-2.06-.94-.94-2.06-.94 2.06-2.06.94zm-11 1L8.5 8.5l.94-2.06 2.06-.94-2.06-.94L8.5 2.5l-.94 2.06-2.06.94zm10 10l.94 2.06.94-2.06 2.06-.94-2.06-.94-.94-2.06-.94 2.06-2.06.94z\"/><path d=\"M17.41 7.96l-1.37-1.37c-.4-.4-.92-.59-1.43-.59-.52 0-1.04.2-1.43.59L10.3 9.45l-7.72 7.72c-.78.78-.78 2.05 0 2.83L4 21.41c.39.39.9.59 1.41.59.51 0 1.02-.2 1.41-.59l7.78-7.78 2.81-2.81c.8-.78.8-2.07 0-2.86zM5.41 20L4 18.59l7.72-7.72 1.47 1.35L5.41 20z\"/>\n",
              "  </svg>\n",
              "      </button>\n",
              "      \n",
              "  <style>\n",
              "    .colab-df-container {\n",
              "      display:flex;\n",
              "      flex-wrap:wrap;\n",
              "      gap: 12px;\n",
              "    }\n",
              "\n",
              "    .colab-df-convert {\n",
              "      background-color: #E8F0FE;\n",
              "      border: none;\n",
              "      border-radius: 50%;\n",
              "      cursor: pointer;\n",
              "      display: none;\n",
              "      fill: #1967D2;\n",
              "      height: 32px;\n",
              "      padding: 0 0 0 0;\n",
              "      width: 32px;\n",
              "    }\n",
              "\n",
              "    .colab-df-convert:hover {\n",
              "      background-color: #E2EBFA;\n",
              "      box-shadow: 0px 1px 2px rgba(60, 64, 67, 0.3), 0px 1px 3px 1px rgba(60, 64, 67, 0.15);\n",
              "      fill: #174EA6;\n",
              "    }\n",
              "\n",
              "    [theme=dark] .colab-df-convert {\n",
              "      background-color: #3B4455;\n",
              "      fill: #D2E3FC;\n",
              "    }\n",
              "\n",
              "    [theme=dark] .colab-df-convert:hover {\n",
              "      background-color: #434B5C;\n",
              "      box-shadow: 0px 1px 3px 1px rgba(0, 0, 0, 0.15);\n",
              "      filter: drop-shadow(0px 1px 2px rgba(0, 0, 0, 0.3));\n",
              "      fill: #FFFFFF;\n",
              "    }\n",
              "  </style>\n",
              "\n",
              "      <script>\n",
              "        const buttonEl =\n",
              "          document.querySelector('#df-8e5d9a11-5bfd-4dac-b9a1-2e2ff26a7f54 button.colab-df-convert');\n",
              "        buttonEl.style.display =\n",
              "          google.colab.kernel.accessAllowed ? 'block' : 'none';\n",
              "\n",
              "        async function convertToInteractive(key) {\n",
              "          const element = document.querySelector('#df-8e5d9a11-5bfd-4dac-b9a1-2e2ff26a7f54');\n",
              "          const dataTable =\n",
              "            await google.colab.kernel.invokeFunction('convertToInteractive',\n",
              "                                                     [key], {});\n",
              "          if (!dataTable) return;\n",
              "\n",
              "          const docLinkHtml = 'Like what you see? Visit the ' +\n",
              "            '<a target=\"_blank\" href=https://colab.research.google.com/notebooks/data_table.ipynb>data table notebook</a>'\n",
              "            + ' to learn more about interactive tables.';\n",
              "          element.innerHTML = '';\n",
              "          dataTable['output_type'] = 'display_data';\n",
              "          await google.colab.output.renderOutput(dataTable, element);\n",
              "          const docLink = document.createElement('div');\n",
              "          docLink.innerHTML = docLinkHtml;\n",
              "          element.appendChild(docLink);\n",
              "        }\n",
              "      </script>\n",
              "    </div>\n",
              "  </div>\n",
              "  "
            ]
          },
          "metadata": {},
          "execution_count": 3
        }
      ]
    },
    {
      "cell_type": "code",
      "source": [
        "#Record view\n",
        "df.head()"
      ],
      "metadata": {
        "colab": {
          "base_uri": "https://localhost:8080/",
          "height": 438
        },
        "id": "eO-FevvJ00rg",
        "outputId": "7840ca5b-93fc-43e9-8e90-d94f172f9867"
      },
      "execution_count": 4,
      "outputs": [
        {
          "output_type": "execute_result",
          "data": {
            "text/plain": [
              "  country country_long                      name   gppd_idnr  capacity_mw  \\\n",
              "0     IND        India          ACME Solar Tower  WRI1020239          2.5   \n",
              "1     IND        India       ADITYA CEMENT WORKS  WRI1019881         98.0   \n",
              "2     IND        India  AES Saurashtra Windfarms  WRI1026669         39.2   \n",
              "3     IND        India               AGARTALA GT  IND0000001        135.0   \n",
              "4     IND        India              AKALTARA TPP  IND0000002       1800.0   \n",
              "\n",
              "   latitude  longitude primary_fuel other_fuel1 other_fuel2  ...  \\\n",
              "0   28.1839    73.2407        Solar         NaN         NaN  ...   \n",
              "1   24.7663    74.6090         Coal         NaN         NaN  ...   \n",
              "2   21.9038    69.3732         Wind         NaN         NaN  ...   \n",
              "3   23.8712    91.3602          Gas         NaN         NaN  ...   \n",
              "4   21.9603    82.4091         Coal         Oil         NaN  ...   \n",
              "\n",
              "   year_of_capacity_data  generation_gwh_2013 generation_gwh_2014  \\\n",
              "0                    NaN                  NaN                 NaN   \n",
              "1                    NaN                  NaN                 NaN   \n",
              "2                    NaN                  NaN                 NaN   \n",
              "3                 2019.0                  NaN          617.789264   \n",
              "4                 2019.0                  NaN         3035.550000   \n",
              "\n",
              "  generation_gwh_2015 generation_gwh_2016 generation_gwh_2017  \\\n",
              "0                 NaN                 NaN                 NaN   \n",
              "1                 NaN                 NaN                 NaN   \n",
              "2                 NaN                 NaN                 NaN   \n",
              "3             843.747          886.004428          663.774500   \n",
              "4            5916.370         6243.000000         5385.579736   \n",
              "\n",
              "   generation_gwh_2018  generation_gwh_2019         generation_data_source  \\\n",
              "0                  NaN                  NaN                            NaN   \n",
              "1                  NaN                  NaN                            NaN   \n",
              "2                  NaN                  NaN                            NaN   \n",
              "3           626.239128                  NaN  Central Electricity Authority   \n",
              "4          7279.000000                  NaN  Central Electricity Authority   \n",
              "\n",
              "   estimated_generation_gwh  \n",
              "0                       NaN  \n",
              "1                       NaN  \n",
              "2                       NaN  \n",
              "3                       NaN  \n",
              "4                       NaN  \n",
              "\n",
              "[5 rows x 27 columns]"
            ],
            "text/html": [
              "\n",
              "  <div id=\"df-c25f9e1c-4c80-47ac-a098-17ac53c61546\">\n",
              "    <div class=\"colab-df-container\">\n",
              "      <div>\n",
              "<style scoped>\n",
              "    .dataframe tbody tr th:only-of-type {\n",
              "        vertical-align: middle;\n",
              "    }\n",
              "\n",
              "    .dataframe tbody tr th {\n",
              "        vertical-align: top;\n",
              "    }\n",
              "\n",
              "    .dataframe thead th {\n",
              "        text-align: right;\n",
              "    }\n",
              "</style>\n",
              "<table border=\"1\" class=\"dataframe\">\n",
              "  <thead>\n",
              "    <tr style=\"text-align: right;\">\n",
              "      <th></th>\n",
              "      <th>country</th>\n",
              "      <th>country_long</th>\n",
              "      <th>name</th>\n",
              "      <th>gppd_idnr</th>\n",
              "      <th>capacity_mw</th>\n",
              "      <th>latitude</th>\n",
              "      <th>longitude</th>\n",
              "      <th>primary_fuel</th>\n",
              "      <th>other_fuel1</th>\n",
              "      <th>other_fuel2</th>\n",
              "      <th>...</th>\n",
              "      <th>year_of_capacity_data</th>\n",
              "      <th>generation_gwh_2013</th>\n",
              "      <th>generation_gwh_2014</th>\n",
              "      <th>generation_gwh_2015</th>\n",
              "      <th>generation_gwh_2016</th>\n",
              "      <th>generation_gwh_2017</th>\n",
              "      <th>generation_gwh_2018</th>\n",
              "      <th>generation_gwh_2019</th>\n",
              "      <th>generation_data_source</th>\n",
              "      <th>estimated_generation_gwh</th>\n",
              "    </tr>\n",
              "  </thead>\n",
              "  <tbody>\n",
              "    <tr>\n",
              "      <th>0</th>\n",
              "      <td>IND</td>\n",
              "      <td>India</td>\n",
              "      <td>ACME Solar Tower</td>\n",
              "      <td>WRI1020239</td>\n",
              "      <td>2.5</td>\n",
              "      <td>28.1839</td>\n",
              "      <td>73.2407</td>\n",
              "      <td>Solar</td>\n",
              "      <td>NaN</td>\n",
              "      <td>NaN</td>\n",
              "      <td>...</td>\n",
              "      <td>NaN</td>\n",
              "      <td>NaN</td>\n",
              "      <td>NaN</td>\n",
              "      <td>NaN</td>\n",
              "      <td>NaN</td>\n",
              "      <td>NaN</td>\n",
              "      <td>NaN</td>\n",
              "      <td>NaN</td>\n",
              "      <td>NaN</td>\n",
              "      <td>NaN</td>\n",
              "    </tr>\n",
              "    <tr>\n",
              "      <th>1</th>\n",
              "      <td>IND</td>\n",
              "      <td>India</td>\n",
              "      <td>ADITYA CEMENT WORKS</td>\n",
              "      <td>WRI1019881</td>\n",
              "      <td>98.0</td>\n",
              "      <td>24.7663</td>\n",
              "      <td>74.6090</td>\n",
              "      <td>Coal</td>\n",
              "      <td>NaN</td>\n",
              "      <td>NaN</td>\n",
              "      <td>...</td>\n",
              "      <td>NaN</td>\n",
              "      <td>NaN</td>\n",
              "      <td>NaN</td>\n",
              "      <td>NaN</td>\n",
              "      <td>NaN</td>\n",
              "      <td>NaN</td>\n",
              "      <td>NaN</td>\n",
              "      <td>NaN</td>\n",
              "      <td>NaN</td>\n",
              "      <td>NaN</td>\n",
              "    </tr>\n",
              "    <tr>\n",
              "      <th>2</th>\n",
              "      <td>IND</td>\n",
              "      <td>India</td>\n",
              "      <td>AES Saurashtra Windfarms</td>\n",
              "      <td>WRI1026669</td>\n",
              "      <td>39.2</td>\n",
              "      <td>21.9038</td>\n",
              "      <td>69.3732</td>\n",
              "      <td>Wind</td>\n",
              "      <td>NaN</td>\n",
              "      <td>NaN</td>\n",
              "      <td>...</td>\n",
              "      <td>NaN</td>\n",
              "      <td>NaN</td>\n",
              "      <td>NaN</td>\n",
              "      <td>NaN</td>\n",
              "      <td>NaN</td>\n",
              "      <td>NaN</td>\n",
              "      <td>NaN</td>\n",
              "      <td>NaN</td>\n",
              "      <td>NaN</td>\n",
              "      <td>NaN</td>\n",
              "    </tr>\n",
              "    <tr>\n",
              "      <th>3</th>\n",
              "      <td>IND</td>\n",
              "      <td>India</td>\n",
              "      <td>AGARTALA GT</td>\n",
              "      <td>IND0000001</td>\n",
              "      <td>135.0</td>\n",
              "      <td>23.8712</td>\n",
              "      <td>91.3602</td>\n",
              "      <td>Gas</td>\n",
              "      <td>NaN</td>\n",
              "      <td>NaN</td>\n",
              "      <td>...</td>\n",
              "      <td>2019.0</td>\n",
              "      <td>NaN</td>\n",
              "      <td>617.789264</td>\n",
              "      <td>843.747</td>\n",
              "      <td>886.004428</td>\n",
              "      <td>663.774500</td>\n",
              "      <td>626.239128</td>\n",
              "      <td>NaN</td>\n",
              "      <td>Central Electricity Authority</td>\n",
              "      <td>NaN</td>\n",
              "    </tr>\n",
              "    <tr>\n",
              "      <th>4</th>\n",
              "      <td>IND</td>\n",
              "      <td>India</td>\n",
              "      <td>AKALTARA TPP</td>\n",
              "      <td>IND0000002</td>\n",
              "      <td>1800.0</td>\n",
              "      <td>21.9603</td>\n",
              "      <td>82.4091</td>\n",
              "      <td>Coal</td>\n",
              "      <td>Oil</td>\n",
              "      <td>NaN</td>\n",
              "      <td>...</td>\n",
              "      <td>2019.0</td>\n",
              "      <td>NaN</td>\n",
              "      <td>3035.550000</td>\n",
              "      <td>5916.370</td>\n",
              "      <td>6243.000000</td>\n",
              "      <td>5385.579736</td>\n",
              "      <td>7279.000000</td>\n",
              "      <td>NaN</td>\n",
              "      <td>Central Electricity Authority</td>\n",
              "      <td>NaN</td>\n",
              "    </tr>\n",
              "  </tbody>\n",
              "</table>\n",
              "<p>5 rows × 27 columns</p>\n",
              "</div>\n",
              "      <button class=\"colab-df-convert\" onclick=\"convertToInteractive('df-c25f9e1c-4c80-47ac-a098-17ac53c61546')\"\n",
              "              title=\"Convert this dataframe to an interactive table.\"\n",
              "              style=\"display:none;\">\n",
              "        \n",
              "  <svg xmlns=\"http://www.w3.org/2000/svg\" height=\"24px\"viewBox=\"0 0 24 24\"\n",
              "       width=\"24px\">\n",
              "    <path d=\"M0 0h24v24H0V0z\" fill=\"none\"/>\n",
              "    <path d=\"M18.56 5.44l.94 2.06.94-2.06 2.06-.94-2.06-.94-.94-2.06-.94 2.06-2.06.94zm-11 1L8.5 8.5l.94-2.06 2.06-.94-2.06-.94L8.5 2.5l-.94 2.06-2.06.94zm10 10l.94 2.06.94-2.06 2.06-.94-2.06-.94-.94-2.06-.94 2.06-2.06.94z\"/><path d=\"M17.41 7.96l-1.37-1.37c-.4-.4-.92-.59-1.43-.59-.52 0-1.04.2-1.43.59L10.3 9.45l-7.72 7.72c-.78.78-.78 2.05 0 2.83L4 21.41c.39.39.9.59 1.41.59.51 0 1.02-.2 1.41-.59l7.78-7.78 2.81-2.81c.8-.78.8-2.07 0-2.86zM5.41 20L4 18.59l7.72-7.72 1.47 1.35L5.41 20z\"/>\n",
              "  </svg>\n",
              "      </button>\n",
              "      \n",
              "  <style>\n",
              "    .colab-df-container {\n",
              "      display:flex;\n",
              "      flex-wrap:wrap;\n",
              "      gap: 12px;\n",
              "    }\n",
              "\n",
              "    .colab-df-convert {\n",
              "      background-color: #E8F0FE;\n",
              "      border: none;\n",
              "      border-radius: 50%;\n",
              "      cursor: pointer;\n",
              "      display: none;\n",
              "      fill: #1967D2;\n",
              "      height: 32px;\n",
              "      padding: 0 0 0 0;\n",
              "      width: 32px;\n",
              "    }\n",
              "\n",
              "    .colab-df-convert:hover {\n",
              "      background-color: #E2EBFA;\n",
              "      box-shadow: 0px 1px 2px rgba(60, 64, 67, 0.3), 0px 1px 3px 1px rgba(60, 64, 67, 0.15);\n",
              "      fill: #174EA6;\n",
              "    }\n",
              "\n",
              "    [theme=dark] .colab-df-convert {\n",
              "      background-color: #3B4455;\n",
              "      fill: #D2E3FC;\n",
              "    }\n",
              "\n",
              "    [theme=dark] .colab-df-convert:hover {\n",
              "      background-color: #434B5C;\n",
              "      box-shadow: 0px 1px 3px 1px rgba(0, 0, 0, 0.15);\n",
              "      filter: drop-shadow(0px 1px 2px rgba(0, 0, 0, 0.3));\n",
              "      fill: #FFFFFF;\n",
              "    }\n",
              "  </style>\n",
              "\n",
              "      <script>\n",
              "        const buttonEl =\n",
              "          document.querySelector('#df-c25f9e1c-4c80-47ac-a098-17ac53c61546 button.colab-df-convert');\n",
              "        buttonEl.style.display =\n",
              "          google.colab.kernel.accessAllowed ? 'block' : 'none';\n",
              "\n",
              "        async function convertToInteractive(key) {\n",
              "          const element = document.querySelector('#df-c25f9e1c-4c80-47ac-a098-17ac53c61546');\n",
              "          const dataTable =\n",
              "            await google.colab.kernel.invokeFunction('convertToInteractive',\n",
              "                                                     [key], {});\n",
              "          if (!dataTable) return;\n",
              "\n",
              "          const docLinkHtml = 'Like what you see? Visit the ' +\n",
              "            '<a target=\"_blank\" href=https://colab.research.google.com/notebooks/data_table.ipynb>data table notebook</a>'\n",
              "            + ' to learn more about interactive tables.';\n",
              "          element.innerHTML = '';\n",
              "          dataTable['output_type'] = 'display_data';\n",
              "          await google.colab.output.renderOutput(dataTable, element);\n",
              "          const docLink = document.createElement('div');\n",
              "          docLink.innerHTML = docLinkHtml;\n",
              "          element.appendChild(docLink);\n",
              "        }\n",
              "      </script>\n",
              "    </div>\n",
              "  </div>\n",
              "  "
            ]
          },
          "metadata": {},
          "execution_count": 4
        }
      ]
    },
    {
      "cell_type": "code",
      "source": [
        "#statistical view of my dataset\n",
        "df.describe()"
      ],
      "metadata": {
        "colab": {
          "base_uri": "https://localhost:8080/",
          "height": 364
        },
        "id": "2E5Ugpyb09S7",
        "outputId": "b4216272-3d0d-4ded-c0af-b92d14cd2961"
      },
      "execution_count": 5,
      "outputs": [
        {
          "output_type": "execute_result",
          "data": {
            "text/plain": [
              "       capacity_mw    latitude   longitude  other_fuel3  commissioning_year  \\\n",
              "count   907.000000  861.000000  861.000000          0.0          527.000000   \n",
              "mean    326.223755   21.197918   77.464907          NaN         1997.091082   \n",
              "std     590.085456    6.239612    4.939316          NaN           17.082868   \n",
              "min       0.000000    8.168900   68.644700          NaN         1927.000000   \n",
              "25%      16.725000   16.773900   74.256200          NaN         1988.000000   \n",
              "50%      59.200000   21.780000   76.719500          NaN         2001.000000   \n",
              "75%     385.250000   25.512400   79.440800          NaN         2012.000000   \n",
              "max    4760.000000   34.649000   95.408000          NaN         2018.000000   \n",
              "\n",
              "       wepp_id  year_of_capacity_data  generation_gwh_2013  \\\n",
              "count      0.0                  519.0                  0.0   \n",
              "mean       NaN                 2019.0                  NaN   \n",
              "std        NaN                    0.0                  NaN   \n",
              "min        NaN                 2019.0                  NaN   \n",
              "25%        NaN                 2019.0                  NaN   \n",
              "50%        NaN                 2019.0                  NaN   \n",
              "75%        NaN                 2019.0                  NaN   \n",
              "max        NaN                 2019.0                  NaN   \n",
              "\n",
              "       generation_gwh_2014  generation_gwh_2015  generation_gwh_2016  \\\n",
              "count           398.000000           422.000000           434.000000   \n",
              "mean           2431.823590          2428.226946          2467.936859   \n",
              "std            4026.440035          4194.596959          4162.884308   \n",
              "min               0.000000             0.000000             0.000000   \n",
              "25%             223.557672           176.381063           188.285252   \n",
              "50%             801.123775           711.181225           737.205450   \n",
              "75%            3035.306250          3084.121250          3282.861313   \n",
              "max           28127.000000         30539.000000         30015.000000   \n",
              "\n",
              "       generation_gwh_2017  generation_gwh_2018  generation_gwh_2019  \\\n",
              "count           440.000000           448.000000                  0.0   \n",
              "mean           2547.759305          2600.804099                  NaN   \n",
              "std            4196.991169          4314.880456                  NaN   \n",
              "min               0.000000             0.000000                  NaN   \n",
              "25%             177.874930           193.378250                  NaN   \n",
              "50%             817.977250           751.644375                  NaN   \n",
              "75%            3275.690475          3143.535900                  NaN   \n",
              "max           35116.000000         35136.000000                  NaN   \n",
              "\n",
              "       estimated_generation_gwh  \n",
              "count                       0.0  \n",
              "mean                        NaN  \n",
              "std                         NaN  \n",
              "min                         NaN  \n",
              "25%                         NaN  \n",
              "50%                         NaN  \n",
              "75%                         NaN  \n",
              "max                         NaN  "
            ],
            "text/html": [
              "\n",
              "  <div id=\"df-73fb40cc-40de-4eb6-beef-51a52241a5e6\">\n",
              "    <div class=\"colab-df-container\">\n",
              "      <div>\n",
              "<style scoped>\n",
              "    .dataframe tbody tr th:only-of-type {\n",
              "        vertical-align: middle;\n",
              "    }\n",
              "\n",
              "    .dataframe tbody tr th {\n",
              "        vertical-align: top;\n",
              "    }\n",
              "\n",
              "    .dataframe thead th {\n",
              "        text-align: right;\n",
              "    }\n",
              "</style>\n",
              "<table border=\"1\" class=\"dataframe\">\n",
              "  <thead>\n",
              "    <tr style=\"text-align: right;\">\n",
              "      <th></th>\n",
              "      <th>capacity_mw</th>\n",
              "      <th>latitude</th>\n",
              "      <th>longitude</th>\n",
              "      <th>other_fuel3</th>\n",
              "      <th>commissioning_year</th>\n",
              "      <th>wepp_id</th>\n",
              "      <th>year_of_capacity_data</th>\n",
              "      <th>generation_gwh_2013</th>\n",
              "      <th>generation_gwh_2014</th>\n",
              "      <th>generation_gwh_2015</th>\n",
              "      <th>generation_gwh_2016</th>\n",
              "      <th>generation_gwh_2017</th>\n",
              "      <th>generation_gwh_2018</th>\n",
              "      <th>generation_gwh_2019</th>\n",
              "      <th>estimated_generation_gwh</th>\n",
              "    </tr>\n",
              "  </thead>\n",
              "  <tbody>\n",
              "    <tr>\n",
              "      <th>count</th>\n",
              "      <td>907.000000</td>\n",
              "      <td>861.000000</td>\n",
              "      <td>861.000000</td>\n",
              "      <td>0.0</td>\n",
              "      <td>527.000000</td>\n",
              "      <td>0.0</td>\n",
              "      <td>519.0</td>\n",
              "      <td>0.0</td>\n",
              "      <td>398.000000</td>\n",
              "      <td>422.000000</td>\n",
              "      <td>434.000000</td>\n",
              "      <td>440.000000</td>\n",
              "      <td>448.000000</td>\n",
              "      <td>0.0</td>\n",
              "      <td>0.0</td>\n",
              "    </tr>\n",
              "    <tr>\n",
              "      <th>mean</th>\n",
              "      <td>326.223755</td>\n",
              "      <td>21.197918</td>\n",
              "      <td>77.464907</td>\n",
              "      <td>NaN</td>\n",
              "      <td>1997.091082</td>\n",
              "      <td>NaN</td>\n",
              "      <td>2019.0</td>\n",
              "      <td>NaN</td>\n",
              "      <td>2431.823590</td>\n",
              "      <td>2428.226946</td>\n",
              "      <td>2467.936859</td>\n",
              "      <td>2547.759305</td>\n",
              "      <td>2600.804099</td>\n",
              "      <td>NaN</td>\n",
              "      <td>NaN</td>\n",
              "    </tr>\n",
              "    <tr>\n",
              "      <th>std</th>\n",
              "      <td>590.085456</td>\n",
              "      <td>6.239612</td>\n",
              "      <td>4.939316</td>\n",
              "      <td>NaN</td>\n",
              "      <td>17.082868</td>\n",
              "      <td>NaN</td>\n",
              "      <td>0.0</td>\n",
              "      <td>NaN</td>\n",
              "      <td>4026.440035</td>\n",
              "      <td>4194.596959</td>\n",
              "      <td>4162.884308</td>\n",
              "      <td>4196.991169</td>\n",
              "      <td>4314.880456</td>\n",
              "      <td>NaN</td>\n",
              "      <td>NaN</td>\n",
              "    </tr>\n",
              "    <tr>\n",
              "      <th>min</th>\n",
              "      <td>0.000000</td>\n",
              "      <td>8.168900</td>\n",
              "      <td>68.644700</td>\n",
              "      <td>NaN</td>\n",
              "      <td>1927.000000</td>\n",
              "      <td>NaN</td>\n",
              "      <td>2019.0</td>\n",
              "      <td>NaN</td>\n",
              "      <td>0.000000</td>\n",
              "      <td>0.000000</td>\n",
              "      <td>0.000000</td>\n",
              "      <td>0.000000</td>\n",
              "      <td>0.000000</td>\n",
              "      <td>NaN</td>\n",
              "      <td>NaN</td>\n",
              "    </tr>\n",
              "    <tr>\n",
              "      <th>25%</th>\n",
              "      <td>16.725000</td>\n",
              "      <td>16.773900</td>\n",
              "      <td>74.256200</td>\n",
              "      <td>NaN</td>\n",
              "      <td>1988.000000</td>\n",
              "      <td>NaN</td>\n",
              "      <td>2019.0</td>\n",
              "      <td>NaN</td>\n",
              "      <td>223.557672</td>\n",
              "      <td>176.381063</td>\n",
              "      <td>188.285252</td>\n",
              "      <td>177.874930</td>\n",
              "      <td>193.378250</td>\n",
              "      <td>NaN</td>\n",
              "      <td>NaN</td>\n",
              "    </tr>\n",
              "    <tr>\n",
              "      <th>50%</th>\n",
              "      <td>59.200000</td>\n",
              "      <td>21.780000</td>\n",
              "      <td>76.719500</td>\n",
              "      <td>NaN</td>\n",
              "      <td>2001.000000</td>\n",
              "      <td>NaN</td>\n",
              "      <td>2019.0</td>\n",
              "      <td>NaN</td>\n",
              "      <td>801.123775</td>\n",
              "      <td>711.181225</td>\n",
              "      <td>737.205450</td>\n",
              "      <td>817.977250</td>\n",
              "      <td>751.644375</td>\n",
              "      <td>NaN</td>\n",
              "      <td>NaN</td>\n",
              "    </tr>\n",
              "    <tr>\n",
              "      <th>75%</th>\n",
              "      <td>385.250000</td>\n",
              "      <td>25.512400</td>\n",
              "      <td>79.440800</td>\n",
              "      <td>NaN</td>\n",
              "      <td>2012.000000</td>\n",
              "      <td>NaN</td>\n",
              "      <td>2019.0</td>\n",
              "      <td>NaN</td>\n",
              "      <td>3035.306250</td>\n",
              "      <td>3084.121250</td>\n",
              "      <td>3282.861313</td>\n",
              "      <td>3275.690475</td>\n",
              "      <td>3143.535900</td>\n",
              "      <td>NaN</td>\n",
              "      <td>NaN</td>\n",
              "    </tr>\n",
              "    <tr>\n",
              "      <th>max</th>\n",
              "      <td>4760.000000</td>\n",
              "      <td>34.649000</td>\n",
              "      <td>95.408000</td>\n",
              "      <td>NaN</td>\n",
              "      <td>2018.000000</td>\n",
              "      <td>NaN</td>\n",
              "      <td>2019.0</td>\n",
              "      <td>NaN</td>\n",
              "      <td>28127.000000</td>\n",
              "      <td>30539.000000</td>\n",
              "      <td>30015.000000</td>\n",
              "      <td>35116.000000</td>\n",
              "      <td>35136.000000</td>\n",
              "      <td>NaN</td>\n",
              "      <td>NaN</td>\n",
              "    </tr>\n",
              "  </tbody>\n",
              "</table>\n",
              "</div>\n",
              "      <button class=\"colab-df-convert\" onclick=\"convertToInteractive('df-73fb40cc-40de-4eb6-beef-51a52241a5e6')\"\n",
              "              title=\"Convert this dataframe to an interactive table.\"\n",
              "              style=\"display:none;\">\n",
              "        \n",
              "  <svg xmlns=\"http://www.w3.org/2000/svg\" height=\"24px\"viewBox=\"0 0 24 24\"\n",
              "       width=\"24px\">\n",
              "    <path d=\"M0 0h24v24H0V0z\" fill=\"none\"/>\n",
              "    <path d=\"M18.56 5.44l.94 2.06.94-2.06 2.06-.94-2.06-.94-.94-2.06-.94 2.06-2.06.94zm-11 1L8.5 8.5l.94-2.06 2.06-.94-2.06-.94L8.5 2.5l-.94 2.06-2.06.94zm10 10l.94 2.06.94-2.06 2.06-.94-2.06-.94-.94-2.06-.94 2.06-2.06.94z\"/><path d=\"M17.41 7.96l-1.37-1.37c-.4-.4-.92-.59-1.43-.59-.52 0-1.04.2-1.43.59L10.3 9.45l-7.72 7.72c-.78.78-.78 2.05 0 2.83L4 21.41c.39.39.9.59 1.41.59.51 0 1.02-.2 1.41-.59l7.78-7.78 2.81-2.81c.8-.78.8-2.07 0-2.86zM5.41 20L4 18.59l7.72-7.72 1.47 1.35L5.41 20z\"/>\n",
              "  </svg>\n",
              "      </button>\n",
              "      \n",
              "  <style>\n",
              "    .colab-df-container {\n",
              "      display:flex;\n",
              "      flex-wrap:wrap;\n",
              "      gap: 12px;\n",
              "    }\n",
              "\n",
              "    .colab-df-convert {\n",
              "      background-color: #E8F0FE;\n",
              "      border: none;\n",
              "      border-radius: 50%;\n",
              "      cursor: pointer;\n",
              "      display: none;\n",
              "      fill: #1967D2;\n",
              "      height: 32px;\n",
              "      padding: 0 0 0 0;\n",
              "      width: 32px;\n",
              "    }\n",
              "\n",
              "    .colab-df-convert:hover {\n",
              "      background-color: #E2EBFA;\n",
              "      box-shadow: 0px 1px 2px rgba(60, 64, 67, 0.3), 0px 1px 3px 1px rgba(60, 64, 67, 0.15);\n",
              "      fill: #174EA6;\n",
              "    }\n",
              "\n",
              "    [theme=dark] .colab-df-convert {\n",
              "      background-color: #3B4455;\n",
              "      fill: #D2E3FC;\n",
              "    }\n",
              "\n",
              "    [theme=dark] .colab-df-convert:hover {\n",
              "      background-color: #434B5C;\n",
              "      box-shadow: 0px 1px 3px 1px rgba(0, 0, 0, 0.15);\n",
              "      filter: drop-shadow(0px 1px 2px rgba(0, 0, 0, 0.3));\n",
              "      fill: #FFFFFF;\n",
              "    }\n",
              "  </style>\n",
              "\n",
              "      <script>\n",
              "        const buttonEl =\n",
              "          document.querySelector('#df-73fb40cc-40de-4eb6-beef-51a52241a5e6 button.colab-df-convert');\n",
              "        buttonEl.style.display =\n",
              "          google.colab.kernel.accessAllowed ? 'block' : 'none';\n",
              "\n",
              "        async function convertToInteractive(key) {\n",
              "          const element = document.querySelector('#df-73fb40cc-40de-4eb6-beef-51a52241a5e6');\n",
              "          const dataTable =\n",
              "            await google.colab.kernel.invokeFunction('convertToInteractive',\n",
              "                                                     [key], {});\n",
              "          if (!dataTable) return;\n",
              "\n",
              "          const docLinkHtml = 'Like what you see? Visit the ' +\n",
              "            '<a target=\"_blank\" href=https://colab.research.google.com/notebooks/data_table.ipynb>data table notebook</a>'\n",
              "            + ' to learn more about interactive tables.';\n",
              "          element.innerHTML = '';\n",
              "          dataTable['output_type'] = 'display_data';\n",
              "          await google.colab.output.renderOutput(dataTable, element);\n",
              "          const docLink = document.createElement('div');\n",
              "          docLink.innerHTML = docLinkHtml;\n",
              "          element.appendChild(docLink);\n",
              "        }\n",
              "      </script>\n",
              "    </div>\n",
              "  </div>\n",
              "  "
            ]
          },
          "metadata": {},
          "execution_count": 5
        }
      ]
    },
    {
      "cell_type": "code",
      "source": [
        "#column names\n",
        "df.columns"
      ],
      "metadata": {
        "colab": {
          "base_uri": "https://localhost:8080/"
        },
        "id": "4iAx11Wb1AZi",
        "outputId": "07c6ac5b-3ada-444d-c06d-80941baffcf3"
      },
      "execution_count": 6,
      "outputs": [
        {
          "output_type": "execute_result",
          "data": {
            "text/plain": [
              "Index(['country', 'country_long', 'name', 'gppd_idnr', 'capacity_mw',\n",
              "       'latitude', 'longitude', 'primary_fuel', 'other_fuel1', 'other_fuel2',\n",
              "       'other_fuel3', 'commissioning_year', 'owner', 'source', 'url',\n",
              "       'geolocation_source', 'wepp_id', 'year_of_capacity_data',\n",
              "       'generation_gwh_2013', 'generation_gwh_2014', 'generation_gwh_2015',\n",
              "       'generation_gwh_2016', 'generation_gwh_2017', 'generation_gwh_2018',\n",
              "       'generation_gwh_2019', 'generation_data_source',\n",
              "       'estimated_generation_gwh'],\n",
              "      dtype='object')"
            ]
          },
          "metadata": {},
          "execution_count": 6
        }
      ]
    },
    {
      "cell_type": "code",
      "source": [
        "#info of my columns\n",
        "df.info()"
      ],
      "metadata": {
        "colab": {
          "base_uri": "https://localhost:8080/"
        },
        "id": "grmEE9fX1DHH",
        "outputId": "65221e2c-754e-49b5-da4a-be809c4780bc"
      },
      "execution_count": 7,
      "outputs": [
        {
          "output_type": "stream",
          "name": "stdout",
          "text": [
            "<class 'pandas.core.frame.DataFrame'>\n",
            "RangeIndex: 907 entries, 0 to 906\n",
            "Data columns (total 27 columns):\n",
            " #   Column                    Non-Null Count  Dtype  \n",
            "---  ------                    --------------  -----  \n",
            " 0   country                   907 non-null    object \n",
            " 1   country_long              907 non-null    object \n",
            " 2   name                      907 non-null    object \n",
            " 3   gppd_idnr                 907 non-null    object \n",
            " 4   capacity_mw               907 non-null    float64\n",
            " 5   latitude                  861 non-null    float64\n",
            " 6   longitude                 861 non-null    float64\n",
            " 7   primary_fuel              907 non-null    object \n",
            " 8   other_fuel1               198 non-null    object \n",
            " 9   other_fuel2               1 non-null      object \n",
            " 10  other_fuel3               0 non-null      float64\n",
            " 11  commissioning_year        527 non-null    float64\n",
            " 12  owner                     342 non-null    object \n",
            " 13  source                    907 non-null    object \n",
            " 14  url                       907 non-null    object \n",
            " 15  geolocation_source        888 non-null    object \n",
            " 16  wepp_id                   0 non-null      float64\n",
            " 17  year_of_capacity_data     519 non-null    float64\n",
            " 18  generation_gwh_2013       0 non-null      float64\n",
            " 19  generation_gwh_2014       398 non-null    float64\n",
            " 20  generation_gwh_2015       422 non-null    float64\n",
            " 21  generation_gwh_2016       434 non-null    float64\n",
            " 22  generation_gwh_2017       440 non-null    float64\n",
            " 23  generation_gwh_2018       448 non-null    float64\n",
            " 24  generation_gwh_2019       0 non-null      float64\n",
            " 25  generation_data_source    449 non-null    object \n",
            " 26  estimated_generation_gwh  0 non-null      float64\n",
            "dtypes: float64(15), object(12)\n",
            "memory usage: 191.4+ KB\n"
          ]
        }
      ]
    },
    {
      "cell_type": "code",
      "source": [
        "#null value check\n",
        "df.isnull().sum()"
      ],
      "metadata": {
        "colab": {
          "base_uri": "https://localhost:8080/"
        },
        "id": "gvdH81p71Fq2",
        "outputId": "46ecd295-664f-4fe0-bdf5-d24ed009fb5a"
      },
      "execution_count": 8,
      "outputs": [
        {
          "output_type": "execute_result",
          "data": {
            "text/plain": [
              "country                       0\n",
              "country_long                  0\n",
              "name                          0\n",
              "gppd_idnr                     0\n",
              "capacity_mw                   0\n",
              "latitude                     46\n",
              "longitude                    46\n",
              "primary_fuel                  0\n",
              "other_fuel1                 709\n",
              "other_fuel2                 906\n",
              "other_fuel3                 907\n",
              "commissioning_year          380\n",
              "owner                       565\n",
              "source                        0\n",
              "url                           0\n",
              "geolocation_source           19\n",
              "wepp_id                     907\n",
              "year_of_capacity_data       388\n",
              "generation_gwh_2013         907\n",
              "generation_gwh_2014         509\n",
              "generation_gwh_2015         485\n",
              "generation_gwh_2016         473\n",
              "generation_gwh_2017         467\n",
              "generation_gwh_2018         459\n",
              "generation_gwh_2019         907\n",
              "generation_data_source      458\n",
              "estimated_generation_gwh    907\n",
              "dtype: int64"
            ]
          },
          "metadata": {},
          "execution_count": 8
        }
      ]
    },
    {
      "cell_type": "code",
      "source": [
        "#shape of mydataset\n",
        "df.shape"
      ],
      "metadata": {
        "colab": {
          "base_uri": "https://localhost:8080/"
        },
        "id": "wTlbP-1a1IBi",
        "outputId": "2e1e1220-65e4-4ba9-fda4-dcdd6cb3eb58"
      },
      "execution_count": 9,
      "outputs": [
        {
          "output_type": "execute_result",
          "data": {
            "text/plain": [
              "(907, 27)"
            ]
          },
          "metadata": {},
          "execution_count": 9
        }
      ]
    },
    {
      "cell_type": "code",
      "source": [
        "# The Below columns will be deleted as it has Around 50% of null values\n",
        "\n",
        "df.drop(\"other_fuel1\",axis=1,inplace=True)\n",
        "df.drop(\"other_fuel2\",axis=1,inplace=True)\n",
        "df.drop(\"other_fuel3\",axis=1,inplace=True)\n",
        "df.drop(\"wepp_id\",axis=1,inplace=True)\n",
        "df.drop(\"estimated_generation_gwh\",axis=1,inplace=True)"
      ],
      "metadata": {
        "id": "lnfv96V61L6Z"
      },
      "execution_count": 10,
      "outputs": []
    },
    {
      "cell_type": "code",
      "source": [
        "df.isnull().sum()"
      ],
      "metadata": {
        "colab": {
          "base_uri": "https://localhost:8080/"
        },
        "id": "Wwx1yqY41S_8",
        "outputId": "9a64ee94-18af-407d-8320-e322c318233c"
      },
      "execution_count": 11,
      "outputs": [
        {
          "output_type": "execute_result",
          "data": {
            "text/plain": [
              "country                     0\n",
              "country_long                0\n",
              "name                        0\n",
              "gppd_idnr                   0\n",
              "capacity_mw                 0\n",
              "latitude                   46\n",
              "longitude                  46\n",
              "primary_fuel                0\n",
              "commissioning_year        380\n",
              "owner                     565\n",
              "source                      0\n",
              "url                         0\n",
              "geolocation_source         19\n",
              "year_of_capacity_data     388\n",
              "generation_gwh_2013       907\n",
              "generation_gwh_2014       509\n",
              "generation_gwh_2015       485\n",
              "generation_gwh_2016       473\n",
              "generation_gwh_2017       467\n",
              "generation_gwh_2018       459\n",
              "generation_gwh_2019       907\n",
              "generation_data_source    458\n",
              "dtype: int64"
            ]
          },
          "metadata": {},
          "execution_count": 11
        }
      ]
    },
    {
      "cell_type": "code",
      "source": [
        "#filling missing values\n",
        "df[\"latitude\"].fillna(df['latitude'].mean(),inplace=True)\n",
        "df[\"longitude\"].fillna(df['longitude'].mean(),inplace=True)\n",
        "df[\"year_of_capacity_data\"].fillna(2018.0,inplace=True)\n",
        "df[\"commissioning_year\"].fillna(2013.0,inplace=True)\n",
        "df[\"owner\"].fillna(\"Acc Acc ltd\",inplace=True)\n",
        "df[\"geolocation_source\"].fillna(\"WRI\",inplace=True)\n",
        "df[\"generation_gwh_2013\"].fillna(df['generation_gwh_2013'].mean(),inplace=True)\n",
        "df[\"generation_gwh_2014\"].fillna(df['generation_gwh_2014'].mean(),inplace=True)\n",
        "df[\"generation_gwh_2015\"].fillna(df['generation_gwh_2015'].mean(),inplace=True)\n",
        "df[\"generation_gwh_2016\"].fillna(df['generation_gwh_2016'].mean(),inplace=True)\n",
        "df[\"generation_gwh_2017\"].fillna(df['generation_gwh_2017'].mean(),inplace=True)\n",
        "\n",
        "df[\"generation_gwh_2018\"].fillna(df['generation_gwh_2018'].mean(),inplace=True)\n",
        "df[\"generation_gwh_2019\"].fillna(df['generation_gwh_2019'].mean(),inplace=True)\n",
        "df[\"generation_data_source\"].fillna(\"Central Electricity Authority\",inplace=True)"
      ],
      "metadata": {
        "id": "uyMM9q-a1VwZ"
      },
      "execution_count": 12,
      "outputs": []
    },
    {
      "cell_type": "code",
      "source": [
        "df.drop(\"generation_gwh_2013\",axis=1,inplace=True)\n",
        "df.drop(\"generation_gwh_2019\",axis=1,inplace=True)"
      ],
      "metadata": {
        "id": "nZMIP_0f1mxR"
      },
      "execution_count": 13,
      "outputs": []
    },
    {
      "cell_type": "code",
      "source": [
        "df.describe()"
      ],
      "metadata": {
        "colab": {
          "base_uri": "https://localhost:8080/",
          "height": 364
        },
        "id": "6MRqWEat1pYf",
        "outputId": "ba6c01b7-95ce-4402-a006-43a7e984ef13"
      },
      "execution_count": 14,
      "outputs": [
        {
          "output_type": "execute_result",
          "data": {
            "text/plain": [
              "       capacity_mw    latitude   longitude  commissioning_year  \\\n",
              "count   907.000000  907.000000  907.000000          907.000000   \n",
              "mean    326.223755   21.197918   77.464907         2003.756340   \n",
              "std     590.085456    6.079148    4.812291           15.202139   \n",
              "min       0.000000    8.168900   68.644700         1927.000000   \n",
              "25%      16.725000   17.072000   74.388900         1998.000000   \n",
              "50%      59.200000   21.281800   76.979200         2013.000000   \n",
              "75%     385.250000   25.176450   79.206100         2013.000000   \n",
              "max    4760.000000   34.649000   95.408000         2018.000000   \n",
              "\n",
              "       year_of_capacity_data  generation_gwh_2014  generation_gwh_2015  \\\n",
              "count             907.000000           907.000000           907.000000   \n",
              "mean             2018.572216          2431.823590          2428.226946   \n",
              "std                 0.495030          2665.338608          2859.349132   \n",
              "min              2018.000000             0.000000             0.000000   \n",
              "25%              2018.000000          1211.362750           916.000000   \n",
              "50%              2019.000000          2431.823590          2428.226946   \n",
              "75%              2019.000000          2431.823590          2428.226946   \n",
              "max              2019.000000         28127.000000         30539.000000   \n",
              "\n",
              "       generation_gwh_2016  generation_gwh_2017  generation_gwh_2018  \n",
              "count           907.000000           907.000000           907.000000  \n",
              "mean           2467.936859          2547.759305          2600.804099  \n",
              "std            2877.890004          2921.502193          3030.808041  \n",
              "min               0.000000             0.000000             0.000000  \n",
              "25%             896.500214           882.594850           824.842340  \n",
              "50%            2467.936859          2547.759305          2600.804099  \n",
              "75%            2467.936859          2547.759305          2600.804099  \n",
              "max           30015.000000         35116.000000         35136.000000  "
            ],
            "text/html": [
              "\n",
              "  <div id=\"df-3b642cf0-a847-4770-ae42-3fe59249da22\">\n",
              "    <div class=\"colab-df-container\">\n",
              "      <div>\n",
              "<style scoped>\n",
              "    .dataframe tbody tr th:only-of-type {\n",
              "        vertical-align: middle;\n",
              "    }\n",
              "\n",
              "    .dataframe tbody tr th {\n",
              "        vertical-align: top;\n",
              "    }\n",
              "\n",
              "    .dataframe thead th {\n",
              "        text-align: right;\n",
              "    }\n",
              "</style>\n",
              "<table border=\"1\" class=\"dataframe\">\n",
              "  <thead>\n",
              "    <tr style=\"text-align: right;\">\n",
              "      <th></th>\n",
              "      <th>capacity_mw</th>\n",
              "      <th>latitude</th>\n",
              "      <th>longitude</th>\n",
              "      <th>commissioning_year</th>\n",
              "      <th>year_of_capacity_data</th>\n",
              "      <th>generation_gwh_2014</th>\n",
              "      <th>generation_gwh_2015</th>\n",
              "      <th>generation_gwh_2016</th>\n",
              "      <th>generation_gwh_2017</th>\n",
              "      <th>generation_gwh_2018</th>\n",
              "    </tr>\n",
              "  </thead>\n",
              "  <tbody>\n",
              "    <tr>\n",
              "      <th>count</th>\n",
              "      <td>907.000000</td>\n",
              "      <td>907.000000</td>\n",
              "      <td>907.000000</td>\n",
              "      <td>907.000000</td>\n",
              "      <td>907.000000</td>\n",
              "      <td>907.000000</td>\n",
              "      <td>907.000000</td>\n",
              "      <td>907.000000</td>\n",
              "      <td>907.000000</td>\n",
              "      <td>907.000000</td>\n",
              "    </tr>\n",
              "    <tr>\n",
              "      <th>mean</th>\n",
              "      <td>326.223755</td>\n",
              "      <td>21.197918</td>\n",
              "      <td>77.464907</td>\n",
              "      <td>2003.756340</td>\n",
              "      <td>2018.572216</td>\n",
              "      <td>2431.823590</td>\n",
              "      <td>2428.226946</td>\n",
              "      <td>2467.936859</td>\n",
              "      <td>2547.759305</td>\n",
              "      <td>2600.804099</td>\n",
              "    </tr>\n",
              "    <tr>\n",
              "      <th>std</th>\n",
              "      <td>590.085456</td>\n",
              "      <td>6.079148</td>\n",
              "      <td>4.812291</td>\n",
              "      <td>15.202139</td>\n",
              "      <td>0.495030</td>\n",
              "      <td>2665.338608</td>\n",
              "      <td>2859.349132</td>\n",
              "      <td>2877.890004</td>\n",
              "      <td>2921.502193</td>\n",
              "      <td>3030.808041</td>\n",
              "    </tr>\n",
              "    <tr>\n",
              "      <th>min</th>\n",
              "      <td>0.000000</td>\n",
              "      <td>8.168900</td>\n",
              "      <td>68.644700</td>\n",
              "      <td>1927.000000</td>\n",
              "      <td>2018.000000</td>\n",
              "      <td>0.000000</td>\n",
              "      <td>0.000000</td>\n",
              "      <td>0.000000</td>\n",
              "      <td>0.000000</td>\n",
              "      <td>0.000000</td>\n",
              "    </tr>\n",
              "    <tr>\n",
              "      <th>25%</th>\n",
              "      <td>16.725000</td>\n",
              "      <td>17.072000</td>\n",
              "      <td>74.388900</td>\n",
              "      <td>1998.000000</td>\n",
              "      <td>2018.000000</td>\n",
              "      <td>1211.362750</td>\n",
              "      <td>916.000000</td>\n",
              "      <td>896.500214</td>\n",
              "      <td>882.594850</td>\n",
              "      <td>824.842340</td>\n",
              "    </tr>\n",
              "    <tr>\n",
              "      <th>50%</th>\n",
              "      <td>59.200000</td>\n",
              "      <td>21.281800</td>\n",
              "      <td>76.979200</td>\n",
              "      <td>2013.000000</td>\n",
              "      <td>2019.000000</td>\n",
              "      <td>2431.823590</td>\n",
              "      <td>2428.226946</td>\n",
              "      <td>2467.936859</td>\n",
              "      <td>2547.759305</td>\n",
              "      <td>2600.804099</td>\n",
              "    </tr>\n",
              "    <tr>\n",
              "      <th>75%</th>\n",
              "      <td>385.250000</td>\n",
              "      <td>25.176450</td>\n",
              "      <td>79.206100</td>\n",
              "      <td>2013.000000</td>\n",
              "      <td>2019.000000</td>\n",
              "      <td>2431.823590</td>\n",
              "      <td>2428.226946</td>\n",
              "      <td>2467.936859</td>\n",
              "      <td>2547.759305</td>\n",
              "      <td>2600.804099</td>\n",
              "    </tr>\n",
              "    <tr>\n",
              "      <th>max</th>\n",
              "      <td>4760.000000</td>\n",
              "      <td>34.649000</td>\n",
              "      <td>95.408000</td>\n",
              "      <td>2018.000000</td>\n",
              "      <td>2019.000000</td>\n",
              "      <td>28127.000000</td>\n",
              "      <td>30539.000000</td>\n",
              "      <td>30015.000000</td>\n",
              "      <td>35116.000000</td>\n",
              "      <td>35136.000000</td>\n",
              "    </tr>\n",
              "  </tbody>\n",
              "</table>\n",
              "</div>\n",
              "      <button class=\"colab-df-convert\" onclick=\"convertToInteractive('df-3b642cf0-a847-4770-ae42-3fe59249da22')\"\n",
              "              title=\"Convert this dataframe to an interactive table.\"\n",
              "              style=\"display:none;\">\n",
              "        \n",
              "  <svg xmlns=\"http://www.w3.org/2000/svg\" height=\"24px\"viewBox=\"0 0 24 24\"\n",
              "       width=\"24px\">\n",
              "    <path d=\"M0 0h24v24H0V0z\" fill=\"none\"/>\n",
              "    <path d=\"M18.56 5.44l.94 2.06.94-2.06 2.06-.94-2.06-.94-.94-2.06-.94 2.06-2.06.94zm-11 1L8.5 8.5l.94-2.06 2.06-.94-2.06-.94L8.5 2.5l-.94 2.06-2.06.94zm10 10l.94 2.06.94-2.06 2.06-.94-2.06-.94-.94-2.06-.94 2.06-2.06.94z\"/><path d=\"M17.41 7.96l-1.37-1.37c-.4-.4-.92-.59-1.43-.59-.52 0-1.04.2-1.43.59L10.3 9.45l-7.72 7.72c-.78.78-.78 2.05 0 2.83L4 21.41c.39.39.9.59 1.41.59.51 0 1.02-.2 1.41-.59l7.78-7.78 2.81-2.81c.8-.78.8-2.07 0-2.86zM5.41 20L4 18.59l7.72-7.72 1.47 1.35L5.41 20z\"/>\n",
              "  </svg>\n",
              "      </button>\n",
              "      \n",
              "  <style>\n",
              "    .colab-df-container {\n",
              "      display:flex;\n",
              "      flex-wrap:wrap;\n",
              "      gap: 12px;\n",
              "    }\n",
              "\n",
              "    .colab-df-convert {\n",
              "      background-color: #E8F0FE;\n",
              "      border: none;\n",
              "      border-radius: 50%;\n",
              "      cursor: pointer;\n",
              "      display: none;\n",
              "      fill: #1967D2;\n",
              "      height: 32px;\n",
              "      padding: 0 0 0 0;\n",
              "      width: 32px;\n",
              "    }\n",
              "\n",
              "    .colab-df-convert:hover {\n",
              "      background-color: #E2EBFA;\n",
              "      box-shadow: 0px 1px 2px rgba(60, 64, 67, 0.3), 0px 1px 3px 1px rgba(60, 64, 67, 0.15);\n",
              "      fill: #174EA6;\n",
              "    }\n",
              "\n",
              "    [theme=dark] .colab-df-convert {\n",
              "      background-color: #3B4455;\n",
              "      fill: #D2E3FC;\n",
              "    }\n",
              "\n",
              "    [theme=dark] .colab-df-convert:hover {\n",
              "      background-color: #434B5C;\n",
              "      box-shadow: 0px 1px 3px 1px rgba(0, 0, 0, 0.15);\n",
              "      filter: drop-shadow(0px 1px 2px rgba(0, 0, 0, 0.3));\n",
              "      fill: #FFFFFF;\n",
              "    }\n",
              "  </style>\n",
              "\n",
              "      <script>\n",
              "        const buttonEl =\n",
              "          document.querySelector('#df-3b642cf0-a847-4770-ae42-3fe59249da22 button.colab-df-convert');\n",
              "        buttonEl.style.display =\n",
              "          google.colab.kernel.accessAllowed ? 'block' : 'none';\n",
              "\n",
              "        async function convertToInteractive(key) {\n",
              "          const element = document.querySelector('#df-3b642cf0-a847-4770-ae42-3fe59249da22');\n",
              "          const dataTable =\n",
              "            await google.colab.kernel.invokeFunction('convertToInteractive',\n",
              "                                                     [key], {});\n",
              "          if (!dataTable) return;\n",
              "\n",
              "          const docLinkHtml = 'Like what you see? Visit the ' +\n",
              "            '<a target=\"_blank\" href=https://colab.research.google.com/notebooks/data_table.ipynb>data table notebook</a>'\n",
              "            + ' to learn more about interactive tables.';\n",
              "          element.innerHTML = '';\n",
              "          dataTable['output_type'] = 'display_data';\n",
              "          await google.colab.output.renderOutput(dataTable, element);\n",
              "          const docLink = document.createElement('div');\n",
              "          docLink.innerHTML = docLinkHtml;\n",
              "          element.appendChild(docLink);\n",
              "        }\n",
              "      </script>\n",
              "    </div>\n",
              "  </div>\n",
              "  "
            ]
          },
          "metadata": {},
          "execution_count": 14
        }
      ]
    },
    {
      "cell_type": "code",
      "source": [
        "#countplot of diffrent condition\n",
        "sns.countplot(df['year_of_capacity_data'], palette='coolwarm', hue='primary_fuel', data=df);\n"
      ],
      "metadata": {
        "colab": {
          "base_uri": "https://localhost:8080/",
          "height": 280
        },
        "id": "E7hpPV8Y1slo",
        "outputId": "e3219b46-0b1e-40af-bf7c-d52214b10fe6"
      },
      "execution_count": 16,
      "outputs": [
        {
          "output_type": "display_data",
          "data": {
            "text/plain": [
              "<Figure size 432x288 with 1 Axes>"
            ],
            "image/png": "[encoded data removed]"
          },
          "metadata": {
            "needs_background": "light"
          }
        }
      ]
    },
    {
      "cell_type": "code",
      "source": [
        "#countplot of diffrent condition\n",
        "plt.figure(figsize=(30,15),facecolor=\"white\")\n",
        "sns.countplot(df['geolocation_source'], palette='coolwarm', hue='primary_fuel', data=df);"
      ],
      "metadata": {
        "colab": {
          "base_uri": "https://localhost:8080/",
          "height": 637
        },
        "id": "8ZBZ90-P11VP",
        "outputId": "9b94d08a-cd43-4c2a-bf6b-f0f9edb81a37"
      },
      "execution_count": 17,
      "outputs": [
        {
          "output_type": "display_data",
          "data": {
            "text/plain": [
              "<Figure size 2160x1080 with 1 Axes>"
            ],
            "image/png": "[encoded data removed]"
          },
          "metadata": {}
        }
      ]
    },
    {
      "cell_type": "code",
      "source": [
        "#countplot of diffrent condition\n",
        "plt.figure(figsize=(30,15),facecolor=\"white\")\n",
        "sns.countplot(df['country'], palette='coolwarm', hue='primary_fuel', data=df);"
      ],
      "metadata": {
        "colab": {
          "base_uri": "https://localhost:8080/",
          "height": 636
        },
        "id": "8AITtlX814MA",
        "outputId": "6752ebf8-e67d-4294-83a5-9c43a9d24a8d"
      },
      "execution_count": 18,
      "outputs": [
        {
          "output_type": "display_data",
          "data": {
            "text/plain": [
              "<Figure size 2160x1080 with 1 Axes>"
            ],
            "image/png": "[encoded data removed]"
          },
          "metadata": {}
        }
      ]
    },
    {
      "cell_type": "code",
      "source": [
        "#Looping my object coulmns and printing all my nunique values\n",
        "for column in df.columns:\n",
        "    if df[column].dtype == object:\n",
        "        print(str(column) + ' : ' +str(df[column].nunique()))\n",
        "        print(df[column].value_counts())\n",
        "        print('_______________________________________________')"
      ],
      "metadata": {
        "colab": {
          "base_uri": "https://localhost:8080/"
        },
        "id": "MqolKkzA173t",
        "outputId": "f6df17df-982d-4c07-f6b2-7b1413ea9e4b"
      },
      "execution_count": 19,
      "outputs": [
        {
          "output_type": "stream",
          "name": "stdout",
          "text": [
            "country : 1\n",
            "IND    907\n",
            "Name: country, dtype: int64\n",
            "_______________________________________________\n",
            "country_long : 1\n",
            "India    907\n",
            "Name: country_long, dtype: int64\n",
            "_______________________________________________\n",
            "name : 907\n",
            "ACME Solar Tower           1\n",
            "RAICHUR                    1\n",
            "PRYAGRAJ (BARA) TPP        1\n",
            "PULICHINTALA               1\n",
            "PUNE MILL                  1\n",
            "                          ..\n",
            "KADANA                     1\n",
            "KADRA                      1\n",
            "KAHALGAON                  1\n",
            "KAIGA                      1\n",
            "iEnergy Theni Wind Farm    1\n",
            "Name: name, Length: 907, dtype: int64\n",
            "_______________________________________________\n",
            "gppd_idnr : 907\n",
            "WRI1020239    1\n",
            "IND0000356    1\n",
            "IND0000346    1\n",
            "IND0000523    1\n",
            "WRI1019978    1\n",
            "             ..\n",
            "IND0000167    1\n",
            "IND0000168    1\n",
            "IND0000169    1\n",
            "IND0000170    1\n",
            "WRI1026761    1\n",
            "Name: gppd_idnr, Length: 907, dtype: int64\n",
            "_______________________________________________\n",
            "primary_fuel : 8\n",
            "Coal       258\n",
            "Hydro      251\n",
            "Solar      127\n",
            "Wind       123\n",
            "Gas         69\n",
            "Biomass     50\n",
            "Oil         20\n",
            "Nuclear      9\n",
            "Name: primary_fuel, dtype: int64\n",
            "_______________________________________________\n",
            "owner : 280\n",
            "Acc Acc ltd                                                    569\n",
            "Sterling Agro Industries ltd.                                    4\n",
            "Jk Cement ltd                                                    4\n",
            "Maharashtra State Power Generation Co Ltd (MAHAGENCO)            3\n",
            "Karnataka Power Corporation Limited                              3\n",
            "                                                              ... \n",
            "Sunkon Energy Private Limited                                    1\n",
            "West Bengal Energy Development Corporation Limited (WBEDCL)      1\n",
            "Energy Infratech Private Limited                                 1\n",
            "K. N. Ram                                                        1\n",
            "iEnergy Wind Farms                                               1\n",
            "Name: owner, Length: 280, dtype: int64\n",
            "_______________________________________________\n",
            "source : 191\n",
            "Central Electricity Authority                                  519\n",
            "CDM                                                            124\n",
            "Lancosola                                                       10\n",
            "National Renewable Energy Laboratory                             8\n",
            "National Thermal Power Corporation (NTPC)                        6\n",
            "                                                              ... \n",
            "Harsha Engineers Limited                                         1\n",
            "Godawari Energy ltd                                              1\n",
            "Sunkon Energy Private Limited                                    1\n",
            "West Bengal Energy Development Corporation Limited (WBEDCL)      1\n",
            "Yashwantrao Krishna ssk                                          1\n",
            "Name: source, Length: 191, dtype: int64\n",
            "_______________________________________________\n",
            "url : 304\n",
            "http://www.cea.nic.in/                                                              519\n",
            "http://www.lancosolar.com/pdfs/rajasthan-pv-project-details.pdf                       7\n",
            "http://www.ntpc.co.in                                                                 6\n",
            "http://viainfotech.biz/Biomass/theme5/document/green_market/REC-project-list.pdf      5\n",
            "http://www.mahaurja.com/PDF/PG2_GridConnSPPCommissioned.pdf                           4\n",
            "                                                                                   ... \n",
            "https://cdm.unfccc.int/Projects/DB/LRQA%20Ltd1346322352.66/view                       1\n",
            "https://cdm.unfccc.int/Projects/DB/DNV-CUK1351166669.28/view                          1\n",
            "http://harshaengineers.com                                                            1\n",
            "http://hiragroup.com/companies/godawari-green-energy-limited/                         1\n",
            "https://cdm.unfccc.int/Projects/DB/RWTUV1345031355.85/view                            1\n",
            "Name: url, Length: 304, dtype: int64\n",
            "_______________________________________________\n",
            "geolocation_source : 3\n",
            "WRI                                     784\n",
            "Industry About                          119\n",
            "National Renewable Energy Laboratory      4\n",
            "Name: geolocation_source, dtype: int64\n",
            "_______________________________________________\n",
            "generation_data_source : 1\n",
            "Central Electricity Authority    907\n",
            "Name: generation_data_source, dtype: int64\n",
            "_______________________________________________\n"
          ]
        }
      ]
    },
    {
      "cell_type": "markdown",
      "source": [
        "**Dropping irrelated and nominal data**"
      ],
      "metadata": {
        "id": "JWd2mLR_2Drt"
      }
    },
    {
      "cell_type": "code",
      "source": [
        "df.drop('country',axis=1,inplace=True,)\n",
        "df.drop('country_long',axis=1,inplace=True)\n",
        "df.drop('name',axis=1,inplace=True)"
      ],
      "metadata": {
        "id": "zs7weGbv2CSS"
      },
      "execution_count": 20,
      "outputs": []
    },
    {
      "cell_type": "code",
      "source": [
        "df.drop('gppd_idnr',axis=1,inplace=True)\n",
        "df.drop('url',axis=1,inplace=True)\n",
        "df.drop('generation_data_source',axis=1,inplace=True)"
      ],
      "metadata": {
        "id": "Z1y4JCRY2KdB"
      },
      "execution_count": 21,
      "outputs": []
    },
    {
      "cell_type": "code",
      "source": [
        "df.drop(\"year_of_capacity_data\",axis=1,inplace=True)"
      ],
      "metadata": {
        "id": "bLJP41R22MnL"
      },
      "execution_count": 22,
      "outputs": []
    },
    {
      "cell_type": "code",
      "source": [
        "#Looping my object coulmns and printing all my nunique values\n",
        "for column in df.columns:\n",
        "    if df[column].dtype == float or int or object:\n",
        "        print(str(column) + ' : ' +str(df[column].nunique()))\n",
        "        print(df[column].value_counts())\n",
        "        print('_______________________________________________')"
      ],
      "metadata": {
        "colab": {
          "base_uri": "https://localhost:8080/"
        },
        "id": "okDXUbdZ2Ouq",
        "outputId": "c346f5e8-1e3b-43e7-f81e-87a50f18aadd"
      },
      "execution_count": 23,
      "outputs": [
        {
          "output_type": "stream",
          "name": "stdout",
          "text": [
            "capacity_mw : 361\n",
            "5.0       39\n",
            "10.0      22\n",
            "600.0     20\n",
            "15.0      20\n",
            "1200.0    19\n",
            "          ..\n",
            "291.0      1\n",
            "645.0      1\n",
            "41.4       1\n",
            "17.5       1\n",
            "106.6      1\n",
            "Name: capacity_mw, Length: 361, dtype: int64\n",
            "_______________________________________________\n",
            "latitude : 837\n",
            "21.197918    46\n",
            "19.000400     3\n",
            "24.191700     3\n",
            "31.268000     2\n",
            "14.235200     2\n",
            "             ..\n",
            "22.755400     1\n",
            "27.159800     1\n",
            "17.297000     1\n",
            "20.877200     1\n",
            "9.934400      1\n",
            "Name: latitude, Length: 837, dtype: int64\n",
            "_______________________________________________\n",
            "longitude : 828\n",
            "77.464907    46\n",
            "71.691700     4\n",
            "75.898800     3\n",
            "71.691800     3\n",
            "72.898300     3\n",
            "             ..\n",
            "70.396100     1\n",
            "74.239300     1\n",
            "77.043500     1\n",
            "73.825400     1\n",
            "77.476800     1\n",
            "Name: longitude, Length: 828, dtype: int64\n",
            "_______________________________________________\n",
            "primary_fuel : 8\n",
            "Coal       258\n",
            "Hydro      251\n",
            "Solar      127\n",
            "Wind       123\n",
            "Gas         69\n",
            "Biomass     50\n",
            "Oil         20\n",
            "Nuclear      9\n",
            "Name: primary_fuel, dtype: int64\n",
            "_______________________________________________\n",
            "commissioning_year : 73\n",
            "2013.0    405\n",
            "2015.0     28\n",
            "2012.0     23\n",
            "2016.0     19\n",
            "2010.0     18\n",
            "         ... \n",
            "1954.0      1\n",
            "1969.0      1\n",
            "1939.0      1\n",
            "1927.0      1\n",
            "1953.0      1\n",
            "Name: commissioning_year, Length: 73, dtype: int64\n",
            "_______________________________________________\n",
            "owner : 280\n",
            "Acc Acc ltd                                                    569\n",
            "Sterling Agro Industries ltd.                                    4\n",
            "Jk Cement ltd                                                    4\n",
            "Maharashtra State Power Generation Co Ltd (MAHAGENCO)            3\n",
            "Karnataka Power Corporation Limited                              3\n",
            "                                                              ... \n",
            "Sunkon Energy Private Limited                                    1\n",
            "West Bengal Energy Development Corporation Limited (WBEDCL)      1\n",
            "Energy Infratech Private Limited                                 1\n",
            "K. N. Ram                                                        1\n",
            "iEnergy Wind Farms                                               1\n",
            "Name: owner, Length: 280, dtype: int64\n",
            "_______________________________________________\n",
            "source : 191\n",
            "Central Electricity Authority                                  519\n",
            "CDM                                                            124\n",
            "Lancosola                                                       10\n",
            "National Renewable Energy Laboratory                             8\n",
            "National Thermal Power Corporation (NTPC)                        6\n",
            "                                                              ... \n",
            "Harsha Engineers Limited                                         1\n",
            "Godawari Energy ltd                                              1\n",
            "Sunkon Energy Private Limited                                    1\n",
            "West Bengal Energy Development Corporation Limited (WBEDCL)      1\n",
            "Yashwantrao Krishna ssk                                          1\n",
            "Name: source, Length: 191, dtype: int64\n",
            "_______________________________________________\n",
            "geolocation_source : 3\n",
            "WRI                                     784\n",
            "Industry About                          119\n",
            "National Renewable Energy Laboratory      4\n",
            "Name: geolocation_source, dtype: int64\n",
            "_______________________________________________\n",
            "generation_gwh_2014 : 372\n",
            "2431.82359    509\n",
            "0.00000        28\n",
            "359.13980       1\n",
            "7368.39000      1\n",
            "9983.01800      1\n",
            "             ... \n",
            "1154.34200      1\n",
            "451.05340       1\n",
            "3239.14290      1\n",
            "3155.00000      1\n",
            "3194.35982      1\n",
            "Name: generation_gwh_2014, Length: 372, dtype: int64\n",
            "_______________________________________________\n",
            "generation_gwh_2015 : 397\n",
            "2428.226946     485\n",
            "0.000000         27\n",
            "1497.798000       1\n",
            "10422.690000      1\n",
            "240.799900        1\n",
            "               ... \n",
            "14192.000000      1\n",
            "219.377600        1\n",
            "288.460450        1\n",
            "410.566850        1\n",
            "0.994875          1\n",
            "Name: generation_gwh_2015, Length: 397, dtype: int64\n",
            "_______________________________________________\n",
            "generation_gwh_2016 : 404\n",
            "2467.936859     473\n",
            "0.000000         30\n",
            "8470.570000       2\n",
            "1511.000000       2\n",
            "12.676300         1\n",
            "               ... \n",
            "131.021600        1\n",
            "6130.019928       1\n",
            "5931.490000       1\n",
            "14834.800000      1\n",
            "233.596650        1\n",
            "Name: generation_gwh_2016, Length: 404, dtype: int64\n",
            "_______________________________________________\n",
            "generation_gwh_2017 : 409\n",
            "2547.759305     467\n",
            "0.000000         32\n",
            "170.085300        2\n",
            "272.739450        1\n",
            "0.975100          1\n",
            "               ... \n",
            "15177.000000      1\n",
            "191.945450        1\n",
            "307.375400        1\n",
            "382.438200        1\n",
            "865.400000        1\n",
            "Name: generation_gwh_2017, Length: 409, dtype: int64\n",
            "_______________________________________________\n",
            "generation_gwh_2018 : 411\n",
            "2600.804099     459\n",
            "0.000000         39\n",
            "21.939750         1\n",
            "17.213500         1\n",
            "7200.400000       1\n",
            "               ... \n",
            "7321.267900       1\n",
            "6532.350000       1\n",
            "15305.220000      1\n",
            "373.970750        1\n",
            "686.500000        1\n",
            "Name: generation_gwh_2018, Length: 411, dtype: int64\n",
            "_______________________________________________\n"
          ]
        }
      ]
    },
    {
      "cell_type": "code",
      "source": [
        "df.isna().sum()"
      ],
      "metadata": {
        "colab": {
          "base_uri": "https://localhost:8080/"
        },
        "id": "LyzYQg_l2TTZ",
        "outputId": "d7139e3b-8bd1-4697-f40c-c0c29f558f79"
      },
      "execution_count": 24,
      "outputs": [
        {
          "output_type": "execute_result",
          "data": {
            "text/plain": [
              "capacity_mw            0\n",
              "latitude               0\n",
              "longitude              0\n",
              "primary_fuel           0\n",
              "commissioning_year     0\n",
              "owner                  0\n",
              "source                 0\n",
              "geolocation_source     0\n",
              "generation_gwh_2014    0\n",
              "generation_gwh_2015    0\n",
              "generation_gwh_2016    0\n",
              "generation_gwh_2017    0\n",
              "generation_gwh_2018    0\n",
              "dtype: int64"
            ]
          },
          "metadata": {},
          "execution_count": 24
        }
      ]
    },
    {
      "cell_type": "code",
      "source": [
        "objList = df.select_dtypes(include = \"object\").columns\n",
        "print (objList)"
      ],
      "metadata": {
        "colab": {
          "base_uri": "https://localhost:8080/"
        },
        "id": "qwAqcDvm2Wlh",
        "outputId": "e32a82eb-586a-40af-d0ac-b3f964b0442f"
      },
      "execution_count": 25,
      "outputs": [
        {
          "output_type": "stream",
          "name": "stdout",
          "text": [
            "Index(['primary_fuel', 'owner', 'source', 'geolocation_source'], dtype='object')\n"
          ]
        }
      ]
    },
    {
      "cell_type": "code",
      "source": [
        "#Label Encoding for object to numeric conversion\n",
        "from sklearn.preprocessing import LabelEncoder\n",
        "le = LabelEncoder()\n",
        "\n",
        "for feat in objList:\n",
        "    df[feat] = le.fit_transform(df[feat].astype(str))"
      ],
      "metadata": {
        "id": "SMLsVlxN2ZJy"
      },
      "execution_count": 26,
      "outputs": []
    },
    {
      "cell_type": "code",
      "source": [
        "#plotting distribution plot for my dataframe removing outliers\n",
        "plt.figure(figsize=(40,25),facecolor=\"white\")\n",
        "plotnumber = 1\n",
        "\n",
        "for column in df:\n",
        "    \n",
        "    if(df[column].dtype == np.float64 or df[column].dtype == np.int64):\n",
        "        if plotnumber<=9:\n",
        "            ax = plt.subplot(3,3,plotnumber)\n",
        "            sns.boxplot(df[column])\n",
        "            plt.xlabel(column,fontsize=20)\n",
        "       \n",
        "    plotnumber +=1\n",
        "plt.show()"
      ],
      "metadata": {
        "colab": {
          "base_uri": "https://localhost:8080/",
          "height": 799
        },
        "id": "XOzERoIA2cE_",
        "outputId": "e65c687f-753f-46b7-fbdf-ba89786d0949"
      },
      "execution_count": 27,
      "outputs": [
        {
          "output_type": "display_data",
          "data": {
            "text/plain": [
              "<Figure size 2880x1800 with 9 Axes>"
            ],
            "image/png": "[encoded data removed]"
          },
          "metadata": {}
        }
      ]
    },
    {
      "cell_type": "code",
      "source": [
        "#Removing Outliers\n",
        "from scipy import stats\n",
        "\n",
        "z = np.abs(stats.zscore(df))\n",
        "index = (np.where(z > 3)[0])\n",
        "\n",
        "df = df.drop(df.index[index])"
      ],
      "metadata": {
        "id": "rWUzEd8y2e7i"
      },
      "execution_count": 28,
      "outputs": []
    },
    {
      "cell_type": "code",
      "source": [
        "#plotting distribution plot for my dataframe removing outliers\n",
        "plt.figure(figsize=(40,25),facecolor=\"white\")\n",
        "plotnumber = 1\n",
        "\n",
        "for column in df:\n",
        "    \n",
        "    if(df[column].dtype == np.float64 or df[column].dtype == np.int64):\n",
        "        if plotnumber<=9:\n",
        "            ax = plt.subplot(3,3,plotnumber)\n",
        "            sns.boxplot(df[column])\n",
        "            plt.xlabel(column,fontsize=20)\n",
        "       \n",
        "    plotnumber +=1\n",
        "plt.show()"
      ],
      "metadata": {
        "colab": {
          "base_uri": "https://localhost:8080/",
          "height": 799
        },
        "id": "Bqkt4kBB2iKJ",
        "outputId": "ef821fc4-76a9-45ab-8953-1193e6dcf187"
      },
      "execution_count": 29,
      "outputs": [
        {
          "output_type": "display_data",
          "data": {
            "text/plain": [
              "<Figure size 2880x1800 with 9 Axes>"
            ],
            "image/png": "[encoded data removed]"
          },
          "metadata": {}
        }
      ]
    },
    {
      "cell_type": "code",
      "source": [
        "#correlation matrix\n",
        "corr_mat = df.corr()\n",
        "\n",
        "#heatmap for my corr_mat\n",
        "#countplot\n",
        "plt.figure(figsize=(40,25),facecolor=\"white\")\n",
        "sns.heatmap(corr_mat, annot=True);"
      ],
      "metadata": {
        "colab": {
          "base_uri": "https://localhost:8080/",
          "height": 832
        },
        "id": "FdXfnjpT2k-v",
        "outputId": "ee6ec288-f9b9-4db6-cdc8-8de0ff21f0ae"
      },
      "execution_count": 30,
      "outputs": [
        {
          "output_type": "display_data",
          "data": {
            "text/plain": [
              "<Figure size 2880x1800 with 2 Axes>"
            ],
            "image/png": "[encoded data removed]"
          },
          "metadata": {}
        }
      ]
    },
    {
      "cell_type": "code",
      "source": [
        "#histogram for my dataset\n",
        "df.hist(figsize=(12,12), sharex=False);"
      ],
      "metadata": {
        "colab": {
          "base_uri": "https://localhost:8080/",
          "height": 716
        },
        "id": "zdUHWo502n1T",
        "outputId": "effae1fa-7e01-4954-f48c-797d6f0e08d5"
      },
      "execution_count": 31,
      "outputs": [
        {
          "output_type": "display_data",
          "data": {
            "text/plain": [
              "<Figure size 864x864 with 16 Axes>"
            ],
            "image/png": "[encoded data removed]"
          },
          "metadata": {
            "needs_background": "light"
          }
        }
      ]
    },
    {
      "cell_type": "code",
      "source": [
        "#scaling mydata\n",
        "from sklearn.preprocessing import StandardScaler\n",
        "ss= StandardScaler().fit_transform(df.drop('capacity_mw', axis=1))"
      ],
      "metadata": {
        "id": "znHxtkW_2qi5"
      },
      "execution_count": 32,
      "outputs": []
    },
    {
      "cell_type": "code",
      "source": [
        "#splitting mydataset\n",
        "X= df.drop(['capacity_mw'], axis=1)\n",
        "y = df['capacity_mw']"
      ],
      "metadata": {
        "id": "1qkKFXuk2tXJ"
      },
      "execution_count": 33,
      "outputs": []
    },
    {
      "cell_type": "code",
      "source": [
        "from sklearn.model_selection import train_test_split\n",
        "x_train,x_test,y_train,y_test = train_test_split(X,y,test_size=0.20,random_state=2)"
      ],
      "metadata": {
        "id": "tzVxmzUr2wNV"
      },
      "execution_count": 34,
      "outputs": []
    },
    {
      "cell_type": "code",
      "source": [
        "from xgboost import XGBRegressor\n",
        "xgb = XGBRegressor()  \n",
        "xgb.fit(x_train,y_train) #Call the fit method of XGB to train the model or to learn the parameters of model\n",
        "y_predict = xgb.predict(x_test) #Predict "
      ],
      "metadata": {
        "colab": {
          "base_uri": "https://localhost:8080/"
        },
        "id": "eknwwS632ycH",
        "outputId": "3ab2f53e-103d-4606-ba7a-12ee7e8d6e32"
      },
      "execution_count": 35,
      "outputs": [
        {
          "output_type": "stream",
          "name": "stdout",
          "text": [
            "[16:44:57] WARNING: /workspace/src/objective/regression_obj.cu:152: reg:linear is now deprecated in favor of reg:squarederror.\n"
          ]
        }
      ]
    },
    {
      "cell_type": "code",
      "source": [
        "from sklearn.metrics import r2_score, roc_auc_score, mean_squared_error\n",
        "rmse_xgb = np.sqrt(mean_squared_error(y_test, y_predict))\n",
        "r2_xgb = r2_score(y_test, y_predict)"
      ],
      "metadata": {
        "id": "_tlVtycw21B2"
      },
      "execution_count": 36,
      "outputs": []
    },
    {
      "cell_type": "code",
      "source": [
        "print(\"The root mean Sq error calculated from the base model is:\",rmse_xgb)\n",
        "print(\"The r2-score is:\",r2_xgb)"
      ],
      "metadata": {
        "colab": {
          "base_uri": "https://localhost:8080/"
        },
        "id": "R45zFFWz23xj",
        "outputId": "484f3045-bd6a-4a9f-fd8a-7106db57d236"
      },
      "execution_count": 37,
      "outputs": [
        {
          "output_type": "stream",
          "name": "stdout",
          "text": [
            "The root mean Sq error calculated from the base model is: 180.2884108783128\n",
            "The r2-score is: 0.7631703975960686\n"
          ]
        }
      ]
    },
    {
      "cell_type": "code",
      "source": [
        "#for cross Validation\n",
        "from sklearn.model_selection import KFold,cross_val_score\n",
        "#Cross Validation  for xgb\n",
        "a =cross_val_score(xgb,ss,y,cv=5).mean()\n",
        "b = r2_xgb\n",
        "\n",
        "b-a"
      ],
      "metadata": {
        "colab": {
          "base_uri": "https://localhost:8080/"
        },
        "id": "C7FEMFNo26F7",
        "outputId": "43db04c0-3331-438e-fb73-120b7dcc52f0"
      },
      "execution_count": 38,
      "outputs": [
        {
          "output_type": "stream",
          "name": "stdout",
          "text": [
            "[16:45:27] WARNING: /workspace/src/objective/regression_obj.cu:152: reg:linear is now deprecated in favor of reg:squarederror.\n",
            "[16:45:28] WARNING: /workspace/src/objective/regression_obj.cu:152: reg:linear is now deprecated in favor of reg:squarederror.\n",
            "[16:45:28] WARNING: /workspace/src/objective/regression_obj.cu:152: reg:linear is now deprecated in favor of reg:squarederror.\n",
            "[16:45:28] WARNING: /workspace/src/objective/regression_obj.cu:152: reg:linear is now deprecated in favor of reg:squarederror.\n",
            "[16:45:28] WARNING: /workspace/src/objective/regression_obj.cu:152: reg:linear is now deprecated in favor of reg:squarederror.\n"
          ]
        },
        {
          "output_type": "execute_result",
          "data": {
            "text/plain": [
              "0.006793107583286551"
            ]
          },
          "metadata": {},
          "execution_count": 38
        }
      ]
    },
    {
      "cell_type": "code",
      "source": [
        "from sklearn.neighbors import KNeighborsRegressor  # k=3\n",
        "knn = KNeighborsRegressor(n_neighbors = 3)  #Instantiate KNN with k=3\n",
        "knn.fit(x_train,y_train) #Call the fit method of KNN to train the model or to learn the parameters of model\n",
        "y_predict = knn.predict(x_test) #Predict "
      ],
      "metadata": {
        "id": "NyWoWKyA2-8A"
      },
      "execution_count": 39,
      "outputs": []
    },
    {
      "cell_type": "code",
      "source": [
        "from sklearn.metrics import r2_score, roc_auc_score, mean_squared_error\n",
        "rmse = np.sqrt(mean_squared_error(y_test, y_predict))\n",
        "r2 = r2_score(y_test, y_predict)"
      ],
      "metadata": {
        "id": "CHkc2JHd3BHM"
      },
      "execution_count": 40,
      "outputs": []
    },
    {
      "cell_type": "code",
      "source": [
        "print(\"The root mean Sq error calculated from the base model is:\",rmse)\n",
        "print(\"The r2-score is:\",r2)"
      ],
      "metadata": {
        "colab": {
          "base_uri": "https://localhost:8080/"
        },
        "id": "0StWp6b_3DgV",
        "outputId": "9b42c637-2283-483e-e657-23575d0e6e6e"
      },
      "execution_count": 41,
      "outputs": [
        {
          "output_type": "stream",
          "name": "stdout",
          "text": [
            "The root mean Sq error calculated from the base model is: 189.3665806957795\n",
            "The r2-score is: 0.7387194755038169\n"
          ]
        }
      ]
    },
    {
      "cell_type": "code",
      "source": [
        "#for cross Validation\n",
        "from sklearn.model_selection import KFold,cross_val_score\n",
        "#Cross Validation  for knn\n",
        "a =cross_val_score(knn,ss,y,cv=5).mean()\n",
        "b = r2\n",
        "\n",
        "b-a"
      ],
      "metadata": {
        "colab": {
          "base_uri": "https://localhost:8080/"
        },
        "id": "FHn7jdoM3GBR",
        "outputId": "d44aee9c-20ca-4587-fc89-69093827473f"
      },
      "execution_count": 42,
      "outputs": [
        {
          "output_type": "execute_result",
          "data": {
            "text/plain": [
              "0.047282298147145796"
            ]
          },
          "metadata": {},
          "execution_count": 42
        }
      ]
    },
    {
      "cell_type": "code",
      "source": [
        "from sklearn.linear_model import LinearRegression\n",
        "lr = LinearRegression()\n",
        "\n",
        "lr.fit(x_train , y_train)\n",
        "pred = lr.predict(x_test)"
      ],
      "metadata": {
        "id": "jDUD7KhN3I0h"
      },
      "execution_count": 43,
      "outputs": []
    },
    {
      "cell_type": "code",
      "source": [
        "from sklearn.metrics import r2_score, roc_auc_score, mean_squared_error\n",
        "rmse1 = np.sqrt(mean_squared_error(y_test, pred))\n",
        "r2_1 = r2_score(y_test, pred)"
      ],
      "metadata": {
        "id": "jTkEEyMV3LcS"
      },
      "execution_count": 44,
      "outputs": []
    },
    {
      "cell_type": "code",
      "source": [
        "print(\"The root mean Sq error calculated from the base model is:\",rmse1)\n",
        "print(\"The r2-score is:\",r2_1)"
      ],
      "metadata": {
        "colab": {
          "base_uri": "https://localhost:8080/"
        },
        "id": "nakf-HMc3Nk2",
        "outputId": "5dda3bdd-107b-4112-f3a0-8fe55c5304f2"
      },
      "execution_count": 45,
      "outputs": [
        {
          "output_type": "stream",
          "name": "stdout",
          "text": [
            "The root mean Sq error calculated from the base model is: 240.98713418476535\n",
            "The r2-score is: 0.5768561057615056\n"
          ]
        }
      ]
    },
    {
      "cell_type": "code",
      "source": [
        "#for cross Validation\n",
        "from sklearn.model_selection import KFold,cross_val_score\n",
        "#Cross Validation  for lr\n",
        "a =cross_val_score(lr,ss,y,cv=5).mean()\n",
        "b = r2_1\n",
        "\n",
        "b-a"
      ],
      "metadata": {
        "colab": {
          "base_uri": "https://localhost:8080/"
        },
        "id": "7Kt1ZK3H3QTl",
        "outputId": "47073684-8151-466c-b970-820025f99837"
      },
      "execution_count": 46,
      "outputs": [
        {
          "output_type": "execute_result",
          "data": {
            "text/plain": [
              "0.07440042405351766"
            ]
          },
          "metadata": {},
          "execution_count": 46
        }
      ]
    },
    {
      "cell_type": "code",
      "source": [
        "# using Decision tree regressor to my dataset\n",
        "from sklearn.tree import DecisionTreeRegressor\n",
        "\n",
        "DT = DecisionTreeRegressor() #Instantiate the Desiciontree  object\n",
        "DT.fit(x_train,y_train) #Call the fit method of DT to train the model or to learn the parameters of model\n",
        "y_pred = DT.predict(x_test) #Predict  "
      ],
      "metadata": {
        "id": "DI_wlk0t3SwS"
      },
      "execution_count": 47,
      "outputs": []
    },
    {
      "cell_type": "code",
      "source": [
        "from sklearn.metrics import r2_score, roc_auc_score, mean_squared_error\n",
        "rmse2 = np.sqrt(mean_squared_error(y_test, y_pred))\n",
        "r2_2 = r2_score(y_test, y_pred)"
      ],
      "metadata": {
        "id": "nI8z0fzc3U63"
      },
      "execution_count": 48,
      "outputs": []
    },
    {
      "cell_type": "code",
      "source": [
        "print(\"The root mean Sq error calculated from the base model is:\",rmse2)\n",
        "print(\"The r2-score is:\",r2_2)"
      ],
      "metadata": {
        "colab": {
          "base_uri": "https://localhost:8080/"
        },
        "id": "n7GD7zvV3X0J",
        "outputId": "e49036c1-d906-4384-fde9-c7a7e134f508"
      },
      "execution_count": 49,
      "outputs": [
        {
          "output_type": "stream",
          "name": "stdout",
          "text": [
            "The root mean Sq error calculated from the base model is: 237.52600331056797\n",
            "The r2-score is: 0.5889234652759909\n"
          ]
        }
      ]
    },
    {
      "cell_type": "code",
      "source": [
        "#for cross Validation\n",
        "from sklearn.model_selection import KFold,cross_val_score\n",
        "#Cross Validation  for DT\n",
        "a =cross_val_score(DT,ss,y,cv=5).mean()\n",
        "b = r2_2\n",
        "\n",
        "b-a"
      ],
      "metadata": {
        "colab": {
          "base_uri": "https://localhost:8080/"
        },
        "id": "H46tp9I73aQg",
        "outputId": "0d1a2ecc-453d-4bba-cd61-b79c50826650"
      },
      "execution_count": 50,
      "outputs": [
        {
          "output_type": "execute_result",
          "data": {
            "text/plain": [
              "0.0007705432707523219"
            ]
          },
          "metadata": {},
          "execution_count": 50
        }
      ]
    },
    {
      "cell_type": "code",
      "source": [
        "#Building SVR Model\n",
        "from sklearn.svm import SVR\n",
        "svr = SVR() #Instantiate the SVR object\n",
        "svr.fit(x_train,y_train) #Call the fit method of SVR to train the model or to learn the parameters of model\n",
        "y_pred = svr.predict(x_test) #Predict  "
      ],
      "metadata": {
        "id": "DEteYQPf3ctx"
      },
      "execution_count": 51,
      "outputs": []
    },
    {
      "cell_type": "code",
      "source": [
        "rmse3 = np.sqrt(mean_squared_error(y_test, y_pred))\n",
        "r2_3 = r2_score(y_test, y_pred)"
      ],
      "metadata": {
        "id": "iJ3XE5cE3e0x"
      },
      "execution_count": 52,
      "outputs": []
    },
    {
      "cell_type": "code",
      "source": [
        "print(\"The root mean Sq error calculated from the base model is:\",rmse3)\n",
        "print(\"The r2-score is:\",r2_3)"
      ],
      "metadata": {
        "colab": {
          "base_uri": "https://localhost:8080/"
        },
        "id": "WubqTv7p3hK0",
        "outputId": "8a2d1623-35c4-4b5d-e3ee-76286ea6fd58"
      },
      "execution_count": 53,
      "outputs": [
        {
          "output_type": "stream",
          "name": "stdout",
          "text": [
            "The root mean Sq error calculated from the base model is: 396.63127644379534\n",
            "The r2-score is: -0.14623662112754854\n"
          ]
        }
      ]
    },
    {
      "cell_type": "code",
      "source": [
        "#Building RandomForest Model\n",
        "from sklearn.ensemble import RandomForestRegressor\n",
        "rf = RandomForestRegressor() #Instantiate the RF object\n",
        "rf.fit(x_train,y_train) #Call the fit method of RF to train the model or to learn the parameters of model\n",
        "y_pred = rf.predict(x_test) #Predict "
      ],
      "metadata": {
        "id": "Tb_ZEdIU3kZW"
      },
      "execution_count": 54,
      "outputs": []
    },
    {
      "cell_type": "code",
      "source": [
        "rmse4 = np.sqrt(mean_squared_error(y_test, y_pred))\n",
        "r2_4 = r2_score(y_test, y_pred)"
      ],
      "metadata": {
        "id": "pmwr3_NZ3nDh"
      },
      "execution_count": 55,
      "outputs": []
    },
    {
      "cell_type": "code",
      "source": [
        "print(\"The root mean Sq error calculated from the base model is:\",rmse4)\n",
        "print(\"The r2-score is:\",r2_4)"
      ],
      "metadata": {
        "colab": {
          "base_uri": "https://localhost:8080/"
        },
        "id": "46TcHeii3p0F",
        "outputId": "45e17523-31a9-45aa-8b59-1f4a3544e511"
      },
      "execution_count": 56,
      "outputs": [
        {
          "output_type": "stream",
          "name": "stdout",
          "text": [
            "The root mean Sq error calculated from the base model is: 172.58875648113752\n",
            "The r2-score is: 0.7829672048669066\n"
          ]
        }
      ]
    },
    {
      "cell_type": "code",
      "source": [
        "#for cross Validation\n",
        "from sklearn.model_selection import KFold,cross_val_score\n",
        "#Cross Validation  for RF\n",
        "a =cross_val_score(rf,ss,y,cv=5).mean()\n",
        "b = r2_4\n",
        "\n",
        "b-a"
      ],
      "metadata": {
        "colab": {
          "base_uri": "https://localhost:8080/"
        },
        "id": "g_NwrqO83sHj",
        "outputId": "a08fdca9-3011-495f-d63e-008265a2f9f2"
      },
      "execution_count": 57,
      "outputs": [
        {
          "output_type": "execute_result",
          "data": {
            "text/plain": [
              "0.006788269277116288"
            ]
          },
          "metadata": {},
          "execution_count": 57
        }
      ]
    },
    {
      "cell_type": "markdown",
      "source": [
        "**Hyperparameter tuning**"
      ],
      "metadata": {
        "id": "Lsl7oG3T3xEv"
      }
    },
    {
      "cell_type": "code",
      "source": [
        "# Number of trees in random forest\n",
        "n_estimators = [int(x) for x in np.linspace(start = 10, stop = 150, num = 20)]\n",
        "# Number of features to consider at every split\n",
        "max_features = ['auto', 'sqrt']\n",
        "# Maximum number of levels in tree\n",
        "max_depth = [2,100]\n",
        "# Minimum number of samples required to split a node\n",
        "min_samples_split = [2, 100]\n",
        "# Minimum number of samples required at each leaf node\n",
        "min_samples_leaf = [1, 100]\n",
        "# Method of selecting samples for training each tree\n",
        "bootstrap = [True, False]"
      ],
      "metadata": {
        "id": "CYBDg34w3ume"
      },
      "execution_count": 58,
      "outputs": []
    },
    {
      "cell_type": "code",
      "source": [
        "param_grid = {'n_estimators': n_estimators,\n",
        "               'max_features': max_features,\n",
        "               'max_depth': max_depth,\n",
        "               'min_samples_split': min_samples_split,\n",
        "               'min_samples_leaf': min_samples_leaf,\n",
        "               'bootstrap': bootstrap}\n"
      ],
      "metadata": {
        "id": "SN4lN22W3_lv"
      },
      "execution_count": 59,
      "outputs": []
    },
    {
      "cell_type": "code",
      "source": [
        "from sklearn.model_selection import GridSearchCV\n",
        "rf_Grid = GridSearchCV(estimator = rf, param_grid = param_grid, cv = 5, verbose=4, n_jobs = -1)"
      ],
      "metadata": {
        "id": "EIMpVwDp4Ctq"
      },
      "execution_count": 60,
      "outputs": []
    },
    {
      "cell_type": "code",
      "source": [
        "rf_Grid.fit(x_train, y_train)"
      ],
      "metadata": {
        "id": "ojJH4YyH4JSL"
      },
      "execution_count": null,
      "outputs": []
    },
    {
      "cell_type": "code",
      "source": [
        "#Building RandomForest Model\n",
        "from sklearn.ensemble import RandomForestRegressor\n",
        "rf1 = RandomForestRegressor(n_estimators=83,bootstrap=True,max_depth=100,max_features='sqrt',min_samples_leaf=1,min_samples_split=2) #Instantiate the LogisticRegression object\n",
        "rf1.fit(x_train,y_train) #Call the fit method of logistic regression to train the model or to learn the parameters of model\n",
        "y_pred = rf1.predict(x_test) "
      ],
      "metadata": {
        "id": "dOTKmvKa4aVe"
      },
      "execution_count": 62,
      "outputs": []
    },
    {
      "cell_type": "code",
      "source": [
        "rmse5 = np.sqrt(mean_squared_error(y_test, y_pred))\n",
        "r2_5 = r2_score(y_test, y_pred)"
      ],
      "metadata": {
        "id": "yu7Gj3UU4dT7"
      },
      "execution_count": 63,
      "outputs": []
    },
    {
      "cell_type": "code",
      "source": [
        "print(\"The root mean Sq error calculated from the base model is:\",rmse5)\n",
        "print(\"The r2-score is:\",r2_5)"
      ],
      "metadata": {
        "colab": {
          "base_uri": "https://localhost:8080/"
        },
        "id": "G2Vny5f94fz9",
        "outputId": "d26dc6a4-1580-48f7-87ee-06863dae92d2"
      },
      "execution_count": 64,
      "outputs": [
        {
          "output_type": "stream",
          "name": "stdout",
          "text": [
            "The root mean Sq error calculated from the base model is: 143.17993949262424\n",
            "The r2-score is: 0.8506295416955904\n"
          ]
        }
      ]
    },
    {
      "cell_type": "markdown",
      "source": [
        "**My RF model gives best accuracy so saving the same in pkl file**"
      ],
      "metadata": {
        "id": "4KA599Xo4jbK"
      }
    },
    {
      "cell_type": "code",
      "source": [
        "#Saving the model in pkl file\n",
        "import joblib\n",
        "joblib.dump(rf,\"capacity_mw.pkl\")\n",
        "\n",
        "model = joblib.load(\"capacity_mw.pkl\")\n",
        "\n",
        "#Predicting the saved model\n",
        "prediction = model.predict(x_test)\n",
        "\n",
        "#Converting the result into DataFrame\n",
        "prediction = pd.DataFrame(prediction)\n",
        "\n",
        "#Saving the result into CSV\n",
        "prediction.to_csv(\"capacity_mw\",index=True)"
      ],
      "metadata": {
        "id": "SertL7M84mBh"
      },
      "execution_count": 65,
      "outputs": []
    }
  ]
}